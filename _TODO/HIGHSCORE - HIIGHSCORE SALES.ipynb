{
 "cells": [
  {
   "cell_type": "markdown",
   "metadata": {},
   "source": [
    "DOSE:\n",
    "\n",
    "Dopemine- pleasure for rewards. Please for the chase\n",
    "\n",
    "Endorphin - Pain suppression. Vigorous exertion. \n",
    "\n",
    "Serotonin - Social ladder and dominance\n",
    "\n",
    "Oxytocin- love chemical, touch, birth, sex\n",
    "\n",
    "The ultimate trip.\n",
    "\n",
    "I need to derive pleasure (dopemine) from vigorous exertion (endorphin) so that I can climb the social ladder (serotonin) and have epic love experiences.(oxytocin). "
   ]
  },
  {
   "cell_type": "markdown",
   "metadata": {},
   "source": [
    "Automation, Test automation, Data Science (story telling/ ab testing )and AI, "
   ]
  },
  {
   "cell_type": "markdown",
   "metadata": {},
   "source": [
    "Scoring \n",
    "\n",
    "Metrics mover, Customer Requests, Delight. \n",
    "\n",
    "How can we increase desirability of your product....lower friction to the user. \n",
    "\n",
    "Obsess about your non users\n",
    "\n",
    "Debate on when, think backwards from the future. "
   ]
  },
  {
   "cell_type": "markdown",
   "metadata": {},
   "source": [
    "\n",
    "Sales Sprints leverage; This is what the user sees....\n",
    "\n",
    "Storytelling/ conversations - you stretching out your hand to help. \n",
    "\n",
    "Community - networks, public acceptance, social proofs and work. \n",
    "\n",
    "User-centricity - you going through the trouble so you can cultivate emotion in customer. "
   ]
  }
 ],
 "metadata": {
  "kernelspec": {
   "display_name": "Python 3",
   "language": "python",
   "name": "python3"
  },
  "language_info": {
   "codemirror_mode": {
    "name": "ipython",
    "version": 3
   },
   "file_extension": ".py",
   "mimetype": "text/x-python",
   "name": "python",
   "nbconvert_exporter": "python",
   "pygments_lexer": "ipython3",
   "version": "3.7.6"
  }
 },
 "nbformat": 4,
 "nbformat_minor": 4
}

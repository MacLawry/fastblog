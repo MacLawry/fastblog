{
 "cells": [
  {
   "cell_type": "markdown",
   "source": [
    "Summary\n",
    "\n",
    "First paragragh: Lede statement that states purpose, and end goal. Put a little story in if you can. \n",
    "\n",
    "Theme: Successive iteration, each more precise and descriptive\n",
    "\n",
    "Jot down the iterations... \n",
    "\n",
    "###########################\n",
    "\n",
    "These are your choices of types of article or essay:\n",
    "\n",
    "Argument: convinces someone of something\n",
    "\n",
    "Explanation: tells why something happened instead of something else\n",
    "\n",
    "Definition: states what a word or concept means\n",
    "\n",
    "Description: identifies properties or qualities of things\n",
    "\n",
    "###########################\n",
    "\n",
    "So, now, here is the full set of types of things I have described (with indicator words in brackets):\n",
    "\n",
    "###########################\n",
    "\n",
    "Argument (premise: 'since', 'because'; conclusion: 'therefore', 'so', 'by logic')\n",
    "Deductive\n",
    "Categorical ('all', 'only', 'no', 'none', 'some')\n",
    "Propositional ('if', 'or', 'and')\n",
    "\n",
    "Inductive\n",
    "Generalization ('sample', 'poll', 'observation')\n",
    "Statistical ('most', 'generally, 'usually', 'seventy percent', 'nine out of ten')\n",
    "Universal ('always' and 'all')\n",
    "Causal ('causes')\n",
    "\n",
    "Explanation ('why', 'instead of')\n",
    "Causal ('caused')\n",
    "Statistical ('percent', 'probability')\n",
    "\n",
    "Definition ('is a', 'is defined as')\n",
    "Ostensive ( 'That's what I mean by...' )\n",
    "Lexical ('All', 'Only', 'is a type of', 'is necessarily')\n",
    "Implicit ('is a', 'for example')\n",
    "\n",
    "Description\n",
    "Specific (Subject, predicate, object)\n",
    "Chronology ('yesterday', 'today')\n",
    "Sensations ('seems', 'feels', 'appears', etc.,)\n",
    "List ('first', 'second', etc.)\n",
    "5 W's ('who', 'what', 'where', 'when', 'why')"
   ],
   "metadata": {}
  }
 ],
 "metadata": {
  "kernelspec": {
   "name": "python3",
   "display_name": "Python 3.8.3 64-bit (conda)"
  },
  "language_info": {
   "codemirror_mode": {
    "name": "ipython",
    "version": 3
   },
   "file_extension": ".py",
   "mimetype": "text/x-python",
   "name": "python",
   "nbconvert_exporter": "python",
   "pygments_lexer": "ipython3",
   "version": "3.8.3"
  },
  "interpreter": {
   "hash": "437790c9cf599fb4f3f770d310d3c9f02ad6fd172125f2b11d1a608283b61799"
  }
 },
 "nbformat": 4,
 "nbformat_minor": 4
}
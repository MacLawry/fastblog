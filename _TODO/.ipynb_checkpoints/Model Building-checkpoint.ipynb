{
 "cells": [
  {
   "cell_type": "markdown",
   "metadata": {},
   "source": [
    "17.0 Demonstrate understanding of Linear Algebra\n",
    "principles for machine learning\n",
    "18.0 Demonstrate understanding of different\n",
    "modeling techniques\n",
    "19.0 Demonstrate understanding of model validation\n",
    "and selection techniques\n",
    "20.0 Communicate results translating insight into\n",
    "business value\n",
    "21.0 Demonstrate through a project the ability to test\n",
    "different models on a dataset, validate and select\n",
    "the best model, and communicate results\n"
   ]
  }
 ],
 "metadata": {
  "kernelspec": {
   "display_name": "Python 3.8.2 64-bit",
   "language": "python",
   "name": "python38264bit735b8921aa184eefb4e65f4f9da620bb"
  },
  "language_info": {
   "codemirror_mode": {
    "name": "ipython",
    "version": 3
   },
   "file_extension": ".py",
   "mimetype": "text/x-python",
   "name": "python",
   "nbconvert_exporter": "python",
   "pygments_lexer": "ipython3",
   "version": "3.8.5"
  }
 },
 "nbformat": 4,
 "nbformat_minor": 4
}

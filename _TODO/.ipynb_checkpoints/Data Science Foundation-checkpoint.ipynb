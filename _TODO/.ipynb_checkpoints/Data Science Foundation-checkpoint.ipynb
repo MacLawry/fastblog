{
 "cells": [
  {
   "cell_type": "markdown",
   "metadata": {},
   "source": [
    "8.0 Demonstrate understanding of what is data science\n",
    "and what data scientists do\n",
    "9.0 Demonstrate ability to characterize a business problem\n",
    "10.0 Demonstrate ability to formulate a business problem\n",
    "as a hypothesis question\n",
    "11.0 Demonstrate use of methodologies in the execution\n",
    "of the analytics cycle\n",
    "12.0 Demonstrate through a project the ability to plan\n",
    "for the execution of a project"
   ]
  }
 ],
 "metadata": {
  "kernelspec": {
   "display_name": "Python 3.8.2 64-bit",
   "language": "python",
   "name": "python38264bit735b8921aa184eefb4e65f4f9da620bb"
  },
  "language_info": {
   "codemirror_mode": {
    "name": "ipython",
    "version": 3
   },
   "file_extension": ".py",
   "mimetype": "text/x-python",
   "name": "python",
   "nbconvert_exporter": "python",
   "pygments_lexer": "ipython3",
   "version": "3.8.5"
  }
 },
 "nbformat": 4,
 "nbformat_minor": 4
}

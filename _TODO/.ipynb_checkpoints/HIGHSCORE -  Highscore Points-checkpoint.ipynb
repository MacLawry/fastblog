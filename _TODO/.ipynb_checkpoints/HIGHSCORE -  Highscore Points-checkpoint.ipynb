{
 "cells": [
  {
   "cell_type": "markdown",
   "metadata": {},
   "source": [
    "# Highscore Points A journey to a Million xp... tag along\n"
   ]
  },
  {
   "cell_type": "markdown",
   "metadata": {},
   "source": [
    "## Ground Work\n",
    "\n",
    "### Business model: \n",
    "\n",
    "I make aprox 30 usd for every referral to datacamp.ie.. if you buy a course worth 100 usd from my referral link, I make 30% of that. \n",
    "\n"
   ]
  },
  {
   "cell_type": "markdown",
   "metadata": {},
   "source": [
    "### Your Optimism:\n",
    "Courses are the new thing. Data camp has wide variety of them. Datacamp has wide variety\n",
    "The courses are mini courses\n",
    "They have a institional offering too\n",
    "They have gamification build into the system\n",
    "They have a mobile app\n",
    "The courses are from industry leaders\n",
    "The courses are constantly updated\n",
    "They have projects\n",
    "They included a certificate \n",
    "They are easy to follow\n",
    "They have alot of promotions\n",
    "The cost is a subscription for the whole year\n",
    "They use impact tech for referrals\n",
    "They are paying the highest\n",
    "Im approved as an affiliate\n",
    "They have a use profile of achievements"
   ]
  },
  {
   "cell_type": "markdown",
   "metadata": {},
   "source": [
    "### Reduce Friction: \n",
    "- link shortener\n",
    "- small footprint images \n",
    "- content strategy, 2 weeks ahead\n",
    "- Bio content for pinned tweet and linked in\n",
    "- Urgency--- \n",
    "- How to use impact \n",
    "\n",
    "### Increase Traction: \n",
    "\n",
    "- link management: how do is dynamically update all links on my blog or social media. In case datacamp change my affiliate link\n",
    "- policy document, saying that all links are affiliates\n",
    "- domain name with email and blog\n",
    "- email marketing \n"
   ]
  },
  {
   "cell_type": "markdown",
   "metadata": {},
   "source": [
    "## Scoring \n",
    "\n",
    "### Buying Triger:\n",
    "\n",
    "\n",
    "Content: Educational content, Progress content, Derivatives of the concepts taught, Projects on github. \n",
    "Social Channels:  Twitter, Facebook, Linked in, Instagram, *Meetup group\n",
    "Medium:code, blog, quizes, video, short snippets.\n",
    "Offers: \n",
    "Progress bars: \n",
    "Job adverts: \n",
    "Application of code and learnings:\n",
    "Success stories: \n",
    "Larger Over arching narrative: making a million new developes in:  c , python, javascript and clojure/lisp/racket\n",
    "\n",
    "### Customer Scoring\n",
    "young professionals\n",
    "uni students\n",
    "hobbystist/ enthusiasts in different disciplines\n",
    "interest groups \n",
    "gamers \n",
    "entreprenuers and hr teams\n",
    "job seekers \n",
    "\n",
    "### Lead Scoring\n",
    "signed up to mailing list\n",
    "signed up for trial\n",
    "commented/ question or offered answer\n",
    "\n",
    "### Networks Scoring\n",
    "followers on social\n",
    "mailing list\n",
    "meetup groups\n",
    "facebook groups\n",
    "linked in groups\n",
    "mentions \n",
    "#tags \n",
    "\n",
    "### Partnership Scoring\n",
    "hr companies\n",
    "content journalism \n",
    "guest mailing list intro article\n",
    "\n",
    "### Tools Scoring\n",
    "impact tech,\n",
    "mailing list software\n",
    "zoho crm software\n",
    "\n",
    "### Skill Scoring\n",
    "coding skills\n",
    "writing skills\n",
    "data skills\n",
    "analysis skills\n",
    "science skills\n",
    "math skills\n",
    "problem solvin skills \n",
    "zoho skills \n",
    "\n",
    "### 10x Cashflow Scoring \n",
    "- Trainings for individuals and coorporates \n",
    "- Specialization into a scpecific high perfomance, field ( eg trading and tech)\n",
    "- HR for tech companies\n",
    "- SAAS product- trading, mpesa, sales\n"
   ]
  },
  {
   "cell_type": "markdown",
   "metadata": {},
   "source": [
    "Whats New: wordpress,  zoho, powerapps, powerbi. zapier, zoho deluge, robot framework. \n",
    "\n",
    "Journey: short posts, blog content, project, saas"
   ]
  },
  {
   "cell_type": "markdown",
   "metadata": {},
   "source": [
    "## High \n",
    "\n",
    "### 1 Million Xp\n",
    "### 100 posts \n",
    "### 50 blog entries\n",
    "### 1000 mailing list entries\n",
    "### 10 projects \n",
    "### 1 SaaS \n",
    "### 10k followers \n",
    "### 3 courses of my own python, c, clojure, linux devops, deeplearning, analysis, lisp/racket, "
   ]
  },
  {
   "cell_type": "markdown",
   "metadata": {},
   "source": [
    "## Sales Sprints\n",
    "\n",
    "### awesome social bio pin\n",
    "### image/logo \n",
    "### 3 posts daily 1 motivation, 1 code snippet, 1 progress update\n",
    "### 1 blog post a week \n",
    "### training proposals\n",
    "### partnership proposals \n",
    "### podcasts/ tv appearances "
   ]
  },
  {
   "cell_type": "markdown",
   "metadata": {},
   "source": [
    "CASHFLOW \n",
    "profit margins in the deals you choose. Try look for minimum 50% and strive for 200%.\n",
    "Cashflows serve as the investment capital for you to realize gains. \n",
    "\n",
    "CULTURE\n",
    "The most successful agencies have great cultures and atitude. It matters in the current market. \n",
    "Learning how to be build a great culture is an transferable art that will carry along with you.\n",
    "\n",
    "CAPABILITIES\n",
    "Have a utimate set of capabilites that make you a ninja. Be a ninja than can solve problems quickly.\n",
    "Have the tenacity to build great products for clients and yourself. \n",
    "\n",
    "CLASS\n",
    "Invest in yourself. Be in class of your own, willing to learn, teach and carry the face and pride of your company. \n",
    "Lawrence, you were build for this. Be a trust champion. This is the new currency. \n",
    "\n"
   ]
  },
  {
   "cell_type": "code",
   "execution_count": null,
   "metadata": {},
   "outputs": [],
   "source": []
  }
 ],
 "metadata": {
  "kernelspec": {
   "display_name": "Python 3.8.2 64-bit",
   "language": "python",
   "name": "python38264bit735b8921aa184eefb4e65f4f9da620bb"
  },
  "language_info": {
   "codemirror_mode": {
    "name": "ipython",
    "version": 3
   },
   "file_extension": ".py",
   "mimetype": "text/x-python",
   "name": "python",
   "nbconvert_exporter": "python",
   "pygments_lexer": "ipython3",
   "version": "3.9.5"
  }
 },
 "nbformat": 4,
 "nbformat_minor": 4
}

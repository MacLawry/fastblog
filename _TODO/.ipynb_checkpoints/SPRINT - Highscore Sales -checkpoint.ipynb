{
 "cells": [
  {
   "cell_type": "markdown",
   "metadata": {},
   "source": [
    "# Execution of Sale Sprints"
   ]
  },
  {
   "cell_type": "markdown",
   "metadata": {},
   "source": [
    "## Sales Intelligence - Sales, Revenue and Growth hacking\n",
    "\n",
    "3000$ per project \n",
    "\n",
    "High Score Sales Sprints--- write content on this process... then give trainings on this. \n",
    "`\n",
    "- Information design \n",
    "- The Customer promise\n",
    "- Content, keywords, medium and calendars - 3 word seo, how we get to know you....\n",
    "- Business/ Sales metrics\n",
    "- Sales products\n",
    "- Product expertise and different perspectives \n",
    "\n",
    "### Sales Specific Requirements\n",
    "\n",
    "- Sales landing pages\n",
    "- Sales processes- channel discovery, content serving and presentation, sales followups, sales support, sales onboarding, sales upselling...\n",
    "- Sales training \n",
    "- Backstage processes \n",
    "- Omnichannel marketing and automation \n",
    "- The launch....(maybe its own product?)\n",
    "\n",
    "### Compounders \n",
    "\n",
    "- Buyer triggers \n",
    "- Entry products, upsell product and recurring revenue and big winners \n",
    "- Whats new-  Computing derivatives(sensitivity to change- gradient)--- New markets, New products, New technology or New perspectives\n",
    "- Repeating the process: the sales flywheel. \n"
   ]
  },
  {
   "cell_type": "markdown",
   "metadata": {},
   "source": [
    "Project Document template: \n",
    "    \n",
    "    to be completed by stakeholders... before project commence.  \n",
    "    \n"
   ]
  },
  {
   "cell_type": "markdown",
   "metadata": {},
   "source": [
    "About Us\n",
    "\n",
    "Our Customers\n",
    "\n",
    "Our Outcomes \n",
    "\n",
    "What to expect... Our execution sprints...\n"
   ]
  },
  {
   "cell_type": "markdown",
   "metadata": {},
   "source": [
    "Sales Intelligence: We will help you create more decoupled sales process. "
   ]
  },
  {
   "cell_type": "markdown",
   "metadata": {},
   "source": [
    "## Information design \n",
    "\n",
    "Information design is a way to communicate in a short, memorable, familiar and aesthetically pleasing way. The best of information design offers new perspectives that are relevant, and fit a context that the users can quickly draw association with. It cuts through the noise, and elevates you and your customer, by giving immediate understanding to your message. \n",
    "\n",
    "\n",
    "In information design, try help your customer by elevating their understanding and making them make great decisions or apppreciate the great decisions you have made. \n",
    "\n",
    "In fitting a context, we map where we lie in the solution or problem space. Mapping helps us have a higher view of possibities. \n",
    "\n",
    "The reason we start with information design, is so we appreciate that our actions are part of a creative process. Its never ending, sometimes we click with our users, other times we dont, but with every interaction and new design, we get better.  \n",
    "\n",
    "\n",
    "Information design is a summary that communicates your predicament. The reason for \n",
    "information design is to be emotive and purposeful.\n",
    "\n",
    "Influencers to your info design choices\n",
    "- before, during, after. - pain alleviation or new reality journey\n",
    "- the science of choice... herd, logic leader, business leader, upfront cost, future support, proximity, freedom of change, freedom to for own support, consist\n",
    "\n",
    "#### Used in\n",
    "\n"
   ]
  },
  {
   "cell_type": "markdown",
   "metadata": {},
   "source": [
    "## The Customer Promise \n",
    "\n",
    "What is the problem/ opportunity\n",
    "Is is really a problem \n",
    "Filter your customer here\n"
   ]
  },
  {
   "cell_type": "markdown",
   "metadata": {},
   "source": [
    "## Content, Keywords and Calendars - 3 word seo, how we get to know you....\n",
    "\n",
    "Content is King they say. Nothing sells better that a good story. \n",
    "\n",
    "3 paragraph content\n",
    "video demonstrations \n",
    "review and build instructions \n",
    "product in use\n",
    "before, during after. "
   ]
  },
  {
   "cell_type": "markdown",
   "metadata": {},
   "source": [
    "## Hypothesis of  business or sales metrics \n",
    "\n",
    "Make statement on the reason you feel this might work, supporting arguments if any and how to meausure success and feedback.\n",
    "\n",
    "Inputs\n",
    "\n",
    "\n",
    "Outputs \n",
    "\n",
    "\n"
   ]
  },
  {
   "cell_type": "markdown",
   "metadata": {},
   "source": [
    "##  Product analysis\n",
    "\n",
    "    Where does your product start and where does it end. \n",
    "    Is it as easy as a shoppin cart, or as complex as 1 year consultancy?\n",
    "    When do we start counting and when do we stop\n",
    "    Are there any variations in product? \n",
    "    Mind map the product space. \n",
    "\n"
   ]
  },
  {
   "cell_type": "markdown",
   "metadata": {},
   "source": [
    "## Product expertise and support \n",
    "\n",
    "    who are the experts in your domain?\n",
    "    do experts matter?\n",
    "    do users need support?\n",
    "    can your expertise be an experience? \n",
    "    can you give you speak of your expertise, create content around it?\n",
    "\n"
   ]
  },
  {
   "cell_type": "markdown",
   "metadata": {},
   "source": [
    "## Sales Sprint Execution"
   ]
  },
  {
   "cell_type": "markdown",
   "metadata": {},
   "source": [
    "We make an investment, we hope it gets utilised to a certain degree and it brings utility to the users. From this, we determine if we need more resources for it. "
   ]
  },
  {
   "cell_type": "markdown",
   "metadata": {},
   "source": [
    "# Programming School \n",
    "\n",
    "Python, Javascript , Lisps( Clojure, Racket)\n",
    "Data Science,\n",
    "Data Engineering,\n",
    "Deep Learning, and \n",
    "Devops and Linux admin"
   ]
  },
  {
   "cell_type": "markdown",
   "metadata": {},
   "source": [
    "Maybe\n",
    "\n",
    "Product School | \n",
    "\n",
    "Art, Entertainment and Fashion|\n",
    "Robotics and Embeded Systems\n"
   ]
  },
  {
   "cell_type": "markdown",
   "metadata": {},
   "source": [
    "# Our Mission \n",
    "\n",
    "Our mission is to offer a wide array of sales revenue solutions for the digital future, boldly in tune with todays realities buyer consciouness, unlimited possibilities and great design. \n",
    "software dist, data, networks\n",
    "\n",
    "# Our Vision \n",
    "\n",
    "A world with faster, safer, integratable digital solutions that are completely inclusive, and favour the creative and wondering mind. \n",
    "\n",
    "# Our Strategy \n",
    "\n",
    "Art is pleasure, invention is treausure. Never walking the straight line, having fun and couting billions before we leap. We choose the evolutionary path, where our decisions are guided by our threats, payoffs and neccessary mutations. \n"
   ]
  },
  {
   "cell_type": "markdown",
   "metadata": {},
   "source": [
    "80% of success if just being there... get involved in what you love. Join the tribe. "
   ]
  },
  {
   "cell_type": "code",
   "execution_count": 7,
   "metadata": {},
   "outputs": [],
   "source": [
    "## Ground work "
   ]
  },
  {
   "cell_type": "code",
   "execution_count": null,
   "metadata": {},
   "outputs": [],
   "source": [
    "## High Value\n",
    "\n",
    "case studies\n",
    "blog content\n",
    "50 posts \n",
    "strong keywords"
   ]
  },
  {
   "cell_type": "code",
   "execution_count": null,
   "metadata": {},
   "outputs": [],
   "source": [
    "# Score Metric#"
   ]
  },
  {
   "cell_type": "code",
   "execution_count": null,
   "metadata": {},
   "outputs": [],
   "source": [
    "# Sales Sprints"
   ]
  },
  {
   "cell_type": "markdown",
   "metadata": {},
   "source": [
    "Diffuse and Focus thinking..."
   ]
  },
  {
   "cell_type": "markdown",
   "metadata": {},
   "source": [
    "Marketing is diffusive thinking, sales is focus thinking. The time a user wants to enter his product details, he gets into focus mode. In this mode, he is able to now, on a granular level, consider details, read reviews, check tech speck, check product fit to his unique context, foresee future needs and all that good stuff. "
   ]
  },
  {
   "cell_type": "markdown",
   "metadata": {},
   "source": [
    "In diffuse thinking, marketing information is kept at a corner on his brain to be accessed at a later date. No much effort is made here. The user lazily filters info given, using simple metrics like, proximity/location, brand trust, referrals, ad content, colours, meme etc...whatever the brain will easily associate with. When the time comes, to make a purchase, the user retrieves this information but it rarely ends there. This information will most likely be used to compare against other offers."
   ]
  },
  {
   "cell_type": "markdown",
   "metadata": {},
   "source": [
    "So how do new companies, win on the marketing front and the sales front. "
   ]
  },
  {
   "cell_type": "markdown",
   "metadata": {},
   "source": [
    "It depends on your product, or should i say it depends on your users attachement to your product. This determines the cognitive load on the sales process. If you can lower this cognitive load, make it easier for the user to buy, utilise and share the experience. This means that the user does not have to go through the painful sales cogntive process again, since he already did that once and his happy with his decision. He will also want to share and refer this info to others but dont bet on it. Open up your business, sell in the open if you can. Let other buyers see it and spare them the cognitive load. The brain is lazy, but the brain knows that it still has to live with its decisions that why it chooses to procastinate rather than make a wrong decision. This is the whole idea of giving free consultation, free trials etc. "
   ]
  },
  {
   "cell_type": "markdown",
   "metadata": {},
   "source": [
    "TODO: "
   ]
  },
  {
   "cell_type": "markdown",
   "metadata": {},
   "source": [
    "TODO: \n",
    "\n",
    "ht mega testimonials\n",
    "\n",
    "Savvy \n",
    "\n",
    "3 posts on twitter, linkedin - "
   ]
  },
  {
   "cell_type": "code",
   "execution_count": null,
   "metadata": {},
   "outputs": [],
   "source": [
    "Our take: \n",
    "    \n",
    "software still augments your service,\n",
    "\n",
    "It provides proof of purchase, interaction, trust building, repetitiveness, and most importantly- gets you off your bad habits. The unbealievable applicability of using machines( hand, wheel, steam, diesel), powertools, software,...AI. \n",
    "\n",
    "software gives you an orgnanization...pan intended. \n"
   ]
  },
  {
   "cell_type": "markdown",
   "metadata": {},
   "source": [
    "OUR TAKE: \n",
    "\n",
    "selling to networks. \n",
    "\n",
    "email marketing, mailing list, selling to your networks... once you have them as your networks, it becomes easier to communicate with them. From here, you have the luxury of really setting yourself apart. All the fancy things you could not do on tight marketing constraints, cost, rules, etc can now be done... You can now gaint their attention and trust. "
   ]
  },
  {
   "cell_type": "code",
   "execution_count": null,
   "metadata": {},
   "outputs": [],
   "source": [
    "Our Take:\n",
    "    \n",
    "Quicksetups. \n",
    "\n",
    "Lowcode is the new code: small investment in initial setup, maintainance, reccuring costs. \n",
    "Ready made business apps you can adapt.\n",
    "composability - how do the parts fit in together."
   ]
  },
  {
   "cell_type": "code",
   "execution_count": null,
   "metadata": {},
   "outputs": [],
   "source": [
    "Our Take: \n",
    "    \n",
    "Data science adoption for small businesses. "
   ]
  },
  {
   "cell_type": "code",
   "execution_count": null,
   "metadata": {},
   "outputs": [],
   "source": [
    "Big Wins for business of all sizes:\n",
    "\n",
    "- email marketing\n",
    "- adopt tech/ easy setup subscription software\n",
    "\n"
   ]
  },
  {
   "cell_type": "code",
   "execution_count": null,
   "metadata": {},
   "outputs": [],
   "source": [
    "Our Take: be a trust champion. \n",
    "\n",
    "How to be a trust champion. have no corporate friends,just communicate demands, let corporate be your employees. \n",
    "\n",
    "Big Wins for individuals in businesses. \n",
    "\n",
    "So you want that raise, you worth. \n",
    "\n",
    "put yourself out there, demand that your face be seen. demand that your customers are loyal to you and your voice. keep getting better, everyday, slowly but surely your worth will rise. \n",
    "\n",
    "it takes courage, some of your seniors may punish you for it...so do it anaway and do it early. \n",
    "the day of the large congromelate is over. It now the day of the influencer and the trust champion. \n"
   ]
  },
  {
   "cell_type": "code",
   "execution_count": null,
   "metadata": {},
   "outputs": [],
   "source": []
  },
  {
   "cell_type": "code",
   "execution_count": null,
   "metadata": {},
   "outputs": [],
   "source": []
  },
  {
   "cell_type": "code",
   "execution_count": null,
   "metadata": {},
   "outputs": [],
   "source": []
  },
  {
   "cell_type": "code",
   "execution_count": null,
   "metadata": {},
   "outputs": [],
   "source": []
  },
  {
   "cell_type": "code",
   "execution_count": null,
   "metadata": {},
   "outputs": [],
   "source": []
  },
  {
   "cell_type": "code",
   "execution_count": null,
   "metadata": {},
   "outputs": [],
   "source": []
  },
  {
   "cell_type": "code",
   "execution_count": null,
   "metadata": {},
   "outputs": [],
   "source": []
  },
  {
   "cell_type": "code",
   "execution_count": null,
   "metadata": {},
   "outputs": [],
   "source": []
  },
  {
   "cell_type": "code",
   "execution_count": null,
   "metadata": {},
   "outputs": [],
   "source": []
  },
  {
   "cell_type": "code",
   "execution_count": null,
   "metadata": {},
   "outputs": [],
   "source": []
  },
  {
   "cell_type": "code",
   "execution_count": null,
   "metadata": {},
   "outputs": [],
   "source": []
  },
  {
   "cell_type": "code",
   "execution_count": null,
   "metadata": {},
   "outputs": [],
   "source": []
  }
 ],
 "metadata": {
  "kernelspec": {
   "display_name": "Python 3.8.2 64-bit",
   "language": "python",
   "name": "python38264bit735b8921aa184eefb4e65f4f9da620bb"
  },
  "language_info": {
   "codemirror_mode": {
    "name": "ipython",
    "version": 3
   },
   "file_extension": ".py",
   "mimetype": "text/x-python",
   "name": "python",
   "nbconvert_exporter": "python",
   "pygments_lexer": "ipython3",
   "version": "3.9.5"
  }
 },
 "nbformat": 4,
 "nbformat_minor": 4
}

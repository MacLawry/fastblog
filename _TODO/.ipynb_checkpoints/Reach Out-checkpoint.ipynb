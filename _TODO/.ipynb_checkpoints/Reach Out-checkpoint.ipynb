{
 "cells": [
  {
   "cell_type": "markdown",
   "metadata": {},
   "source": [
    "\n",
    "Dear {},\n",
    "\n",
    "I`m running a small experiment.\n",
    "\n",
    "If you could endulge me. Let me know what are you main challenges selling, designing sales sprints and creating repeat business. I will reply with some of my opinions, and if you like them,we can carry on the conversation from there. \n",
    "\n",
    "Here is example. One of our users had a construction equipment business. He was not doing so well and he wanted our input. We simply asked him to look for the work that his customers do. He had the time and the tools. What was missing was the tech smarts. He went ahead with it, sourced for construction work, hired his very customers on grounds of their repute, paid them full price for labour but, sourced from his own materials. He didnt push his customers out of business which was his biggest worry, he only made sure that he expanded his channel offering. \n",
    "\n",
    "We create innovative solutions to open ended sales and revenue questions. We found these to be the most nagging, yet most promising problems to solve. Since we are data scientists at heart, interesting questions are a keen interest for us. \n",
    "\n",
    "Let us get cracking at solving what keeps you up at night. \n",
    "You ask the what, we concentrate on the how. \n"
   ]
  },
  {
   "cell_type": "markdown",
   "metadata": {},
   "source": [
    "Scoring value for great outcomes. \n",
    "\n",
    "Dear {},\n",
    "\n",
    "\n",
    "Like most businesses, you are definitely looking for ways and ideas to increase your sales revenue.\n",
    "\n",
    "Introducing, Highscore Sales Sprints. These are insight led sprints supported by your backstage operations. They score good actions that lead to great great outcomes. Read more about it on www.highscoresales.com. \n",
    "\n",
    "We create innovative solutions to open ended sales and revenue questions. We found these to be the most nagging, yet most promising problems to solve. Since we are data scientists at heart, interesting questions are a keen interest to us. \n",
    "\n",
    "What are your current solutions to growing sales revenue?\n",
    "\n",
    "Interested in testing out a sales sprint? \n",
    "They are easy to implement and rely on making simple promises, working hard to achieve them before making bolder promises.\n",
    "\n",
    "If you would like to learn more, please reach out at playerone@highscoresales.com or 0792 745 450.\n",
    "\n",
    "\n",
    "\n",
    "\n"
   ]
  },
  {
   "cell_type": "markdown",
   "metadata": {},
   "source": [
    "In business, be prepared, be yourself, be fearless. \n",
    "\n",
    "In individuality have singular thought, great skill and broad purpose. \n",
    "\n",
    "In everything be organized, have a plan, and do more that you meant to. \n",
    "\n",
    "partition time, partition thought, and act early. \n"
   ]
  },
  {
   "cell_type": "markdown",
   "metadata": {},
   "source": [
    "Sales sprints stack: our process\n",
    "    \n",
    "In our digital competence stack, these are techonoligies we use wordpress, zoho, django, flask, robocorp \n",
    "    \n",
    "In our data services stack, we use keras, scikitlearn, pandas, plotly and pytorch\n",
    "    \n",
    "In our SAAS stack we use clojure, clojurescript, python, postgresql, docker and git "
   ]
  },
  {
   "cell_type": "markdown",
   "metadata": {},
   "source": [
    "To hr companies we offer sales consultancy and data science training for users in their mailbox to grow revenue. \n",
    "\n",
    "To sales and marketing agencies, we offer our unique approach to their clients problems\n",
    "\n",
    "To digital services companies, we offer to design and execute sales sprints for them\n",
    "\n",
    "To hrs, team managers, sales managers, decision makers we offer to design execute sales sprints with their team. \n"
   ]
  },
  {
   "cell_type": "markdown",
   "metadata": {},
   "source": [
    "In solving problems go a step further and solve more than the problem presented to you."
   ]
  },
  {
   "cell_type": "code",
   "execution_count": null,
   "metadata": {
    "collapsed": true
   },
   "outputs": [],
   "source": [
    "Consultancy partnership. "
   ]
  },
  {
   "cell_type": "code",
   "execution_count": null,
   "metadata": {},
   "outputs": [],
   "source": [
    "See themselves in the email proposal..."
   ]
  },
  {
   "cell_type": "code",
   "execution_count": null,
   "metadata": {},
   "outputs": [],
   "source": [
    "hostinger- mcoding coupon\n"
   ]
  },
  {
   "cell_type": "markdown",
   "metadata": {},
   "source": [
    "What is a sales sprint"
   ]
  },
  {
   "cell_type": "markdown",
   "metadata": {},
   "source": [
    "How do you execute a sprint"
   ]
  },
  {
   "cell_type": "markdown",
   "metadata": {},
   "source": [
    "How do you measure a sprints success rate \n"
   ]
  },
  {
   "cell_type": "code",
   "execution_count": null,
   "metadata": {},
   "outputs": [],
   "source": [
    "Proposal: Price, Deliverables, Utility Spec, Rolling gains, Time. "
   ]
  },
  {
   "cell_type": "markdown",
   "metadata": {},
   "source": [
    "What are sales sprint: They are high reward, action led engagements that target high scoring outcomes. These outcomes will later translate into business success metrics. Sales sprints rely on insight, quantitative feedback, scoring and reward. It is best for there to be automation to help along the process. In a long winded sales activities it is easier to coach agents using scoring and rewards as opposed to set rules. Let them find their footing. "
   ]
  },
  {
   "cell_type": "markdown",
   "metadata": {},
   "source": [
    "Dear {},\n",
    " \n",
    "Hope you are having a great day.\n",
    " \n",
    "Have a look at my profile, posts and cv. Im looking for an entry level data science or data analysis role. \n",
    "\n",
    "I have worked in financial markets for over 5 years and build comprehensive financial trading knowledge but I would work in any sector involving data. \n",
    " \n",
    "Please let me know if there are any data analysis or data science roles I can fill in.\n",
    "I`m grow my data skills daily, currently concentain data engineering and deeplearning. \n",
    " \n",
    "Warm regards. "
   ]
  },
  {
   "cell_type": "markdown",
   "metadata": {},
   "source": [
    "Consulting proposal...\n",
    "\n",
    "Revenue solves all business problems. Businesses spend 1000s of dollars on marketing but very few of sales and sales processes. To remedy this, we provide a simple sales sprints that are geared at providing actionable actions for high value. \n",
    "\n",
    "there is a gap in sales consultancy to be filled. We provide sales sprints, tech support to acheive sales sprints, data analysis and market regime trends. we also offer sales training and data analysis training. Sales sprint ideation, design and execution. \n",
    "\n",
    "Highroad to success...big picture benefit.\n",
    "\n",
    "the problem, the size of the market, why people care, this is the solution, \n",
    "\n",
    "a motivated team with actionable daily task, feedback, goals and rewards.\n",
    "\n",
    "present--- future\n",
    "\n",
    "control the present and design a future... have foresight... what is to come.. give back control"
   ]
  },
  {
   "cell_type": "markdown",
   "metadata": {},
   "source": [
    "show dont tell, reinforce your story with icons, image and infographs... use big font, sanserif, dark background, \n",
    "\n",
    "Allows for creativity... it doesnt question if it answers how... "
   ]
  },
  {
   "cell_type": "markdown",
   "metadata": {},
   "source": [
    "With the great investment and emphasis companies pay to get the right staff and for their team the would also take attention to having the right sprints and activities to helping their teams achieve and sailing the right course. Highscore solutions are a set of agendas to to help companies get the right footing. They are relatable, actionable and people oriented. They encourage free thought, action, pivoting and incremental growth for all participants. What better way to hand over the reins to those who matter that this. Mission control advices on the digital tools to harness in for the right job. Data services address interesting questions that business may need answered but lack the time to investigate further. Sales sprints are the icing on the cake. They are the people led executions that hold the reward of great insight, team work and action. over 70% of business do not have daily, weekly or even quartely sales sprints. They train their team, and rely on hero members to deliver. No wonder 80% of business fail. They need all the help they can get. In venture capital, skilled partners to drive teams is the biggest differentiator success. Venture capital will most likely not give capital if they do not have a dedicated member to create direction. "
   ]
  },
  {
   "cell_type": "code",
   "execution_count": null,
   "metadata": {},
   "outputs": [],
   "source": [
    "\n",
    "\n"
   ]
  },
  {
   "cell_type": "code",
   "execution_count": null,
   "metadata": {},
   "outputs": [],
   "source": []
  }
 ],
 "metadata": {
  "kernelspec": {
   "display_name": "Python 3.8.3 64-bit (conda)",
   "language": "python",
   "name": "python383jvsc74a57bd0437790c9cf599fb4f3f770d310d3c9f02ad6fd172125f2b11d1a608283b61799"
  },
  "language_info": {
   "codemirror_mode": {
    "name": "ipython",
    "version": 3
   },
   "file_extension": ".py",
   "mimetype": "text/x-python",
   "name": "python",
   "nbconvert_exporter": "python",
   "pygments_lexer": "ipython3",
   "version": "3.8.12"
  }
 },
 "nbformat": 4,
 "nbformat_minor": 4
}

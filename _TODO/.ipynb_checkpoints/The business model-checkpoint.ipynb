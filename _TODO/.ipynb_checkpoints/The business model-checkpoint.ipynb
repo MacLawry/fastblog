{
 "cells": [
  {
   "cell_type": "markdown",
   "metadata": {},
   "source": [
    "\n",
    "The Business Model\n",
    "\n",
    "Once you have conviction on your 'why', with data and informed estimates of demand for your solution. Its time to put the numbers to paper, in form of a business model. \n",
    "\n",
    "The business model helps you professionally communicate how much you stand to gain from your business venture. \n",
    "\n",
    "There are numerous business models to pick from. You can even mix and match 2 models together if they hold the biggest promise of making returns. There are no hard rules to follow.\n",
    "\n",
    "Here are some examples of business models you might be aware. Netflix uses the subscribption model. Google, wikipedia and youtube use the communities and ecosystems to make money from ads, though the content is not theirs. Some printer companies sell you printers at a low prices but you can buy and use their ink catridges for refills. \n",
    "\n",
    "These business models help companies find economic value. Economic value added is the extra money you make for selling something higher than you bought it. You create economic value through processing, packaging organizing or augmenting etc. \n",
    "\n",
    "When creating a business model, you need to have customer channel, have an estimate of market demand, costs ,resources and competitor landscape. Since you will most likely have to hand your business model to your accountant, your business model should follow some basic rules and template. Their are widely accepted business model canvases that you can get from a simple goole search, here is one. [insert busines model canvas]\n",
    "\n",
    "Business models experience some of the biggest disruptions. Take robinhood as an example. Most brokerage companies charged commissions for trading, relied on desktop software and mainly target professional traders. \n",
    "Robinhood did the exact opposite, charged 0 commissions, went fully mobile and target the retail trader. \n",
    "\n",
    "The business model you choose, will advice and influence your implementation choices. That is why it comes in at a top 2 for the most important items to think about when starting a business project."
   ]
  }
 ],
 "metadata": {
  "kernelspec": {
   "display_name": "Python 3.8.3 64-bit (conda)",
   "language": "python",
   "name": "python383jvsc74a57bd0437790c9cf599fb4f3f770d310d3c9f02ad6fd172125f2b11d1a608283b61799"
  },
  "language_info": {
   "codemirror_mode": {
    "name": "ipython",
    "version": 3
   },
   "file_extension": ".py",
   "mimetype": "text/x-python",
   "name": "python",
   "nbconvert_exporter": "python",
   "pygments_lexer": "ipython3",
   "version": "3.8.12"
  }
 },
 "nbformat": 4,
 "nbformat_minor": 4
}

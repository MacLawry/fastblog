{
 "cells": [
  {
   "cell_type": "markdown",
   "metadata": {},
   "source": [
    "Consistency(like skleanrn), Compose, Loose Coupling, Interfaces, Passing Data, Data Structures, Inheritance, Classes."
   ]
  },
  {
   "cell_type": "code",
   "execution_count": 6,
   "metadata": {},
   "outputs": [
    {
     "name": "stdout",
     "output_type": "stream",
     "text": [
      "First normal arg: heart_earter\n",
      "Another arg through *argv: widows_wail\n",
      "Another arg through *argv: needle\n",
      "Another arg through *argv: shit_mixer\n",
      "Another arg through *argv: ohh_my_gush\n",
      "Another arg through *argv: half_and_half\n",
      "Another arg through *argv: penetration\n"
     ]
    }
   ],
   "source": [
    "def test_var_args(f_arg, *argv):\n",
    "    print(f'First normal arg: {f_arg}')\n",
    "    #breakpoint()\n",
    "    for arg in argv:\n",
    "        print(f'Another arg through *argv: {arg}')\n",
    "\n",
    "test_var_args('heart_earter', 'widows_wail', 'needle', 'shit_mixer', 'ohh_my_gush',\\\n",
    "              'half_and_half', 'penetration')"
   ]
  },
  {
   "cell_type": "code",
   "execution_count": null,
   "metadata": {},
   "outputs": [],
   "source": [
    "#using a debugger : see above\n"
   ]
  },
  {
   "cell_type": "code",
   "execution_count": null,
   "metadata": {},
   "outputs": [],
   "source": []
  },
  {
   "cell_type": "code",
   "execution_count": null,
   "metadata": {},
   "outputs": [],
   "source": [
    "#generators \n",
    "\n",
    "def generator_func():\n",
    "    for i in range(10): \n",
    "        yield i\n",
    "        \n",
    "for item in generator_func():\n",
    "    print(item)\n"
   ]
  },
  {
   "cell_type": "code",
   "execution_count": null,
   "metadata": {},
   "outputs": [],
   "source": [
    "# fibo generator\n",
    "\n",
    "def fibo(n):\n",
    "    a = b = 1 \n",
    "    for i in range(n):\n",
    "        yield a \n",
    "        a, b = b, a + b \n",
    "        \n",
    "# for x in fibo(1000): \n",
    "    print(x) "
   ]
  },
  {
   "cell_type": "code",
   "execution_count": 7,
   "metadata": {},
   "outputs": [
    {
     "name": "stdout",
     "output_type": "stream",
     "text": [
      "Y\n"
     ]
    }
   ],
   "source": [
    "my_string= 'Yasoob' \n",
    "my_iter= iter(my_string) \n",
    "print(next(my_iter)) \n"
   ]
  },
  {
   "cell_type": "markdown",
   "metadata": {},
   "source": [
    "# Decorators \n"
   ]
  },
  {
   "cell_type": "code",
   "execution_count": 2,
   "metadata": {},
   "outputs": [],
   "source": [
    "def hi(name= 'heart eater'):\n",
    "    def greet():\n",
    "        return 'now you are in the greet func'\n",
    "    \n",
    "    def welcome():\n",
    "        return 'now you are in the welcome func'\n",
    "    if name =='heart eater': \n",
    "        return greet \n",
    "    else: \n",
    "        return welcome "
   ]
  },
  {
   "cell_type": "code",
   "execution_count": 3,
   "metadata": {},
   "outputs": [
    {
     "name": "stdout",
     "output_type": "stream",
     "text": [
      "<function hi.<locals>.greet at 0x7ff50c38eb80>\n"
     ]
    }
   ],
   "source": [
    "a = hi()\n",
    "print(a)"
   ]
  },
  {
   "cell_type": "code",
   "execution_count": 4,
   "metadata": {},
   "outputs": [
    {
     "name": "stdout",
     "output_type": "stream",
     "text": [
      "now you are in the greet func\n"
     ]
    }
   ],
   "source": [
    "print(a())"
   ]
  },
  {
   "cell_type": "markdown",
   "metadata": {},
   "source": [
    "how sprints help reduce friction, uncertainty and increase confidence. "
   ]
  },
  {
   "cell_type": "markdown",
   "metadata": {},
   "source": [
    "You cant go wrong with sprints. You can go wrong with one sprint, but not all of them. Plus the payback you get from a working sprint far outweighs the downsides of any failed sprints. The sooner you start having a working sprint, the better. \n",
    "\n",
    "What is a sprint...\n",
    "\n",
    "Who creates a sprint...\n",
    "\n",
    "How is a sprint created...\n",
    "\n",
    "How long does it run...\n",
    "\n",
    "How do I measure, its success. \n",
    "\n",
    "Some ideas to integrate into sprints...\n",
    "- customer demand led sprints are the best...ie if customers have demanded smething, find a way to get back sale revenue from it. "
   ]
  },
  {
   "cell_type": "code",
   "execution_count": null,
   "metadata": {},
   "outputs": [],
   "source": []
  },
  {
   "cell_type": "code",
   "execution_count": null,
   "metadata": {},
   "outputs": [],
   "source": []
  },
  {
   "cell_type": "code",
   "execution_count": null,
   "metadata": {},
   "outputs": [],
   "source": []
  }
 ],
 "metadata": {
  "kernelspec": {
   "display_name": "Python 3.8.2 64-bit",
   "language": "python",
   "name": "python38264bit735b8921aa184eefb4e65f4f9da620bb"
  },
  "language_info": {
   "codemirror_mode": {
    "name": "ipython",
    "version": 3
   },
   "file_extension": ".py",
   "mimetype": "text/x-python",
   "name": "python",
   "nbconvert_exporter": "python",
   "pygments_lexer": "ipython3",
   "version": "3.9.5"
  }
 },
 "nbformat": 4,
 "nbformat_minor": 4
}

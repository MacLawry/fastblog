{
 "cells": [
  {
   "cell_type": "markdown",
   "metadata": {},
   "source": [
    "how do import data\n",
    "\n",
    "some good formats for data\n",
    "\n",
    "mining my own data... dos and donts ...\n",
    "\n",
    "recording my own data \n",
    "\n",
    "little known good data formaters\n",
    "\n",
    "data knowledge bases\n",
    "\n",
    "creating your own data lake"
   ]
  }
 ],
 "metadata": {
  "kernelspec": {
   "display_name": "Python 3.8.2 64-bit",
   "language": "python",
   "name": "python38264bit735b8921aa184eefb4e65f4f9da620bb"
  },
  "language_info": {
   "codemirror_mode": {
    "name": "ipython",
    "version": 3
   },
   "file_extension": ".py",
   "mimetype": "text/x-python",
   "name": "python",
   "nbconvert_exporter": "python",
   "pygments_lexer": "ipython3",
   "version": "3.8.5"
  }
 },
 "nbformat": 4,
 "nbformat_minor": 4
}

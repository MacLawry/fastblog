{
 "cells": [
  {
   "cell_type": "markdown",
   "metadata": {},
   "source": [
    "8.0 What is data science and what do data scientists do\n",
    "9.0 How to characterize a business problem\n",
    "10.0 How to formulate a business problem as a hypothesis question\n",
    "11.0 What are the methodologies in the execution of the analytics cycle\n",
    "12.0 Planning for the execution of a DS project "
   ]
  },
  {
   "cell_type": "markdown",
   "metadata": {},
   "source": [
    "1. Business opportunity and hypothesis formulation \n",
    "\n",
    "  - Business opportunity\n",
    "  - Find data sources \n",
    "  - Explore and visualize data \n",
    "  - Ascertain consistency or account for inconsistencies\n",
    "\n",
    "\n",
    "2. Proposing a model solution. Its delivery and serving  \n",
    "  - Clean data\n",
    "  - Feature engineer data\n",
    "  - Additional data\n",
    "  - Train models \n",
    "  - Model ensemble\n",
    "  - Deploy best model\n",
    "  - Model explainability \n",
    "  \n",
    "\n",
    "3. Auditing model and solution implementation \n",
    "  - Monitor and manage\n",
    "  - Measure success \n",
    "  - Model pipelines\n",
    "  - Big data \n",
    "  - Retrain or retire model\n",
    "  \n",
    "\n"
   ]
  },
  {
   "cell_type": "code",
   "execution_count": null,
   "metadata": {},
   "outputs": [],
   "source": [
    "Test yourself here \n",
    "Learn more here "
   ]
  }
 ],
 "metadata": {
  "kernelspec": {
   "display_name": "Python 3.8.2 64-bit",
   "language": "python",
   "name": "python38264bit735b8921aa184eefb4e65f4f9da620bb"
  },
  "language_info": {
   "codemirror_mode": {
    "name": "ipython",
    "version": 3
   },
   "file_extension": ".py",
   "mimetype": "text/x-python",
   "name": "python",
   "nbconvert_exporter": "python",
   "pygments_lexer": "ipython3",
   "version": "3.8.5"
  }
 },
 "nbformat": 4,
 "nbformat_minor": 4
}

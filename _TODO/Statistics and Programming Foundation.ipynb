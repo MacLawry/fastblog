{
 "cells": [
  {
   "cell_type": "markdown",
   "metadata": {},
   "source": [
    "1.0 Understand sampling, probability theory, and probability distributions\n",
    "2.0 Demonstrate knowledge of descriptive statistical concepts \n",
    "3.0 Demonstrate knowledge of inferential statistics\n",
    "4.0 Demonstrate knowledge of Python programming skills\n",
    "5.0 Implement descriptive and inferential statistics using Python\n",
    "6.0 Demonstrate ability to visualize data and extract insights\n",
    "7.0 Demonstrate through a project the ability to analyze\n",
    "a dataset and communicate insights"
   ]
  }
 ],
 "metadata": {
  "kernelspec": {
   "display_name": "Python 3.8.2 64-bit",
   "language": "python",
   "name": "python38264bit735b8921aa184eefb4e65f4f9da620bb"
  },
  "language_info": {
   "codemirror_mode": {
    "name": "ipython",
    "version": 3
   },
   "file_extension": ".py",
   "mimetype": "text/x-python",
   "name": "python",
   "nbconvert_exporter": "python",
   "pygments_lexer": "ipython3",
   "version": "3.8.5"
  }
 },
 "nbformat": 4,
 "nbformat_minor": 4
}

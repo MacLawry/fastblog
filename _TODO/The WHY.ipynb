{
 "cells": [
  {
   "cell_type": "markdown",
   "metadata": {},
   "source": [
    "Our Take: Ground Work\n",
    "\n",
    "The Why\n",
    "\n",
    "This short article is a continuation and claficication to the highscoresales groundwork page. \n",
    "\n",
    "We did not want to put too much content on the main pages. We felt it better to expound on it here, for the shares,likes and all those good social addons. \n",
    "\n",
    "The why is a deductive or inductive logical conlusion of why an idea would work. It relies on data to provide valid arguments for why your approach might work, and pin points the golden opportunity. The logic should be brief and informs your actions. The big picture goal is to win over hearts and minds as opposed to provide statistical proofs. \n",
    "\n",
    "If you have ever seen jeff bezos 1997 interview of Amazon, back when they sold books, you will see why Jeff Bezos was so convinced his idea would work. He had the data that gave dimension to the opportunity and with goal was to implement a solution sprint. He could easily convince anyone and most importantly, himself on the why. \n",
    "\n",
    "[insert bezos interview]\n",
    "\n",
    "The why makes is a small logical aurgument. It saves you from thinking about further details, and only keeps tabs of the opportunity to be exploited. \n",
    "\n",
    "More pointers when comming up with a WHY. \n",
    "\n",
    "When reasoning about the why, it is a good idea to think about dimensions. Dimensions are the length of time, number of customer etc. If an idea works for one customer,can you think of scaling it to more people, without loosing your edge. Better yet, does scalling actually give you more edge. \n",
    "\n",
    "Dimension if by far, one of the biggest advantages or killer of ideas. Its is the reason, software is so successfull because every extra customer adds very little cost, I any in the design of the original piece. \n",
    "\n",
    "Its also great to have customers before having a product. This should always be ideal, before going all out.  Here are some questions you could ask potential customers.  \n",
    "Would you like this service or solution. \n",
    "How much would it save you\n",
    "How many more conversations help you make\n",
    "How accurate would you be in your business\n",
    "How much freedom free time would your staff have\n",
    "\n",
    "Simply, ask around. Don`t be super secretive. Its better to get turned back early on. There are low cost ways to get feedback from potential users. Think groups, networks, landing pages, survey and cold calling. \n",
    "\n",
    "When dealing with users think of them in 2 ways. One group is aspirational and have a goal and purpose, they are on a journey. The other is in a state of rest, they might be willing to act, but are not yet encouraged to move. Your job is to help those on the move get to their desired state of rest and to help the other discover new journeys to venture into. Either approach means that you are an opposing force, not shy of bringing disruption. \n",
    "\n",
    "Remember, none of the two is better than the other, and the idea of rest vs in motion is only according to your perspective or context. \n",
    "\n",
    "In summary the why is a high level abstraction, adopted from lessons from software design. It concentrates on the what and delegates the how as a detail for later.  \n"
   ]
  }
 ],
 "metadata": {
  "kernelspec": {
   "display_name": "Python 3.8.3 64-bit (conda)",
   "language": "python",
   "name": "python383jvsc74a57bd0437790c9cf599fb4f3f770d310d3c9f02ad6fd172125f2b11d1a608283b61799"
  },
  "language_info": {
   "codemirror_mode": {
    "name": "ipython",
    "version": 3
   },
   "file_extension": ".py",
   "mimetype": "text/x-python",
   "name": "python",
   "nbconvert_exporter": "python",
   "pygments_lexer": "ipython3",
   "version": "3.8.12"
  }
 },
 "nbformat": 4,
 "nbformat_minor": 4
}

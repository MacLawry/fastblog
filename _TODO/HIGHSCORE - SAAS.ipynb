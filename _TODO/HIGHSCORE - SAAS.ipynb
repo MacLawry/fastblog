{
 "cells": [
  {
   "cell_type": "markdown",
   "metadata": {},
   "source": [
    "Mpesa integration: hobby \n",
    "\n",
    "Deeplearning Image manipulation: create similar image but different. RNN. to bypass copyright\n",
    "\n",
    "Past papers question and answer: \n",
    "\n",
    "Read a passage create and answer questions: \n",
    "\n",
    "Meme generator \n",
    "\n",
    "Talking tom, but kermit. \n",
    "\n",
    "Trading bot. \n"
   ]
  }
 ],
 "metadata": {
  "kernelspec": {
   "display_name": "Python 3.8.2 64-bit",
   "language": "python",
   "name": "python38264bit735b8921aa184eefb4e65f4f9da620bb"
  },
  "language_info": {
   "codemirror_mode": {
    "name": "ipython",
    "version": 3
   },
   "file_extension": ".py",
   "mimetype": "text/x-python",
   "name": "python",
   "nbconvert_exporter": "python",
   "pygments_lexer": "ipython3",
   "version": "3.9.5"
  }
 },
 "nbformat": 4,
 "nbformat_minor": 4
}

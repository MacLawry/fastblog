{
 "cells": [
  {
   "cell_type": "markdown",
   "metadata": {},
   "source": [
    "If I lived in a perfect universe, \n",
    "\n",
    "- How else would the problem be framed?\n",
    "- How would the data look? \n",
    "- Which model would fit perfectly? \n",
    "- How then, how can I work backwards, solving only what I need, using only what I need? \n",
    "- Which parts of the perfect world are violated by the problem statement, the data, available models ...? \n",
    "- What can I solve now, simply and incrementally. \n",
    "- How does the solution look like\n",
    "\n",
    "In problem framing, the desired goal should be clear though the methods may not. Problem framing aims to expound the problem. This is when you have a good guesses of what might work or not. This stage allows you to line up a few experiments that you feel might work and would be a good time investment. \n",
    "\n",
    "Working backwards, makes sure you are aware of your immediate needs, dont get sidelined as by some distraction you might never use on the problem at hand. \n",
    "You are not a squeaky clean scientist with the time and abandunt intellect to discover new formulas. You are a greasy mechanic with rusty parts that need to come together for your engine to start roaring. Once, you have life, then and only then can you make it safer, efficient and maintainable.  \n",
    "\n",
    "Expound the problem;\n",
    "\n",
    "1. Problem domain and general techniques needed to solve the problem. \n",
    "2. Are there sub-problems within the problem. \n",
    "3. Similar problems and the acceptable ways of solving them. Read scantily, widely and ask around. \n",
    "4. Working back wards, in time or process from the desired goal, looking for the simplest solution to fit/predict as opposed to accuracy.\n",
    "5. Choosing a base model and best accuracy methods to benchmark with. Which model in the least, gets you a pulse.  \n",
    "6. What components are running under the hood and their interactions that may need fine tuning, without breaking the rest of the model.\n",
    "7. Does the problem have a presentation layer, a business logic layer and a data layer?\n",
    "\n",
    "> Note: A dumb solution,is better that nothing- especially if you can sneak in some humour. Never be embarassed. \n"
   ]
  }
 ],
 "metadata": {
  "kernelspec": {
   "display_name": "Python 3.8.2 64-bit",
   "language": "python",
   "name": "python38264bit735b8921aa184eefb4e65f4f9da620bb"
  },
  "language_info": {
   "codemirror_mode": {
    "name": "ipython",
    "version": 3
   },
   "file_extension": ".py",
   "mimetype": "text/x-python",
   "name": "python",
   "nbconvert_exporter": "python",
   "pygments_lexer": "ipython3",
   "version": "3.9.5"
  }
 },
 "nbformat": 4,
 "nbformat_minor": 4
}

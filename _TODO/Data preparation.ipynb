{
 "cells": [
  {
   "cell_type": "markdown",
   "metadata": {},
   "source": [
    "Visualizing data\n",
    "\n",
    "Such a simple title for such a noble task\n",
    "feature selection\n",
    "feature engineering\n",
    "feature crosses\n",
    "feature intuition before fitting\n",
    "features intuition methods after fitting- eg pdp, permutation importance, coefficients in linear and logistic reg, random forest feature scorring. \n",
    "limiting scope of tricks and visualizations\n",
    "working with 1000 features\n",
    "\n",
    "create features from other ml algos\n",
    "banarize continous variable \n"
   ]
  },
  {
   "cell_type": "markdown",
   "metadata": {},
   "source": [
    "13.0 Demonstrate ability to identify and collect data –\n",
    "multiple formats\n",
    "14.0 Demonstrate ability to manipulate, transform,\n",
    "and clean data\n",
    "15.0 Demonstrate expertise with techniques to deal with\n",
    "missing values, outliers, unbalanced data, as well\n",
    "as data normalization\n",
    "16.0 Demonstrate through a project the ability to construct\n",
    "usable data sets"
   ]
  }
 ],
 "metadata": {
  "kernelspec": {
   "display_name": "Python 3.8.2 64-bit",
   "language": "python",
   "name": "python38264bit735b8921aa184eefb4e65f4f9da620bb"
  },
  "language_info": {
   "codemirror_mode": {
    "name": "ipython",
    "version": 3
   },
   "file_extension": ".py",
   "mimetype": "text/x-python",
   "name": "python",
   "nbconvert_exporter": "python",
   "pygments_lexer": "ipython3",
   "version": "3.8.5"
  }
 },
 "nbformat": 4,
 "nbformat_minor": 4
}

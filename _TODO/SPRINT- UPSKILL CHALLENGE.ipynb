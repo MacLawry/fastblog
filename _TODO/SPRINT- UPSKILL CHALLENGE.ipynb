{
 "cells": [
  {
   "cell_type": "markdown",
   "metadata": {},
   "source": [
    "social bio: Love a worthwhile challenge? Tag along on this journey to a 1,000,000 xp and beyond. \n",
    "\n",
    "tagline: developing code musle... developing muscle for code. developing code cells...\n",
    "\n",
    "profile background: \n",
    "\n",
    "profile photo: \n",
    "\n",
    "link:  \n",
    " "
   ]
  },
  {
   "cell_type": "markdown",
   "metadata": {},
   "source": [
    "POST TEMPLATE\n",
    "\n",
    "IMAGE VIDEO:\n",
    "\n",
    "TOPIC KEYWORDS: using regex for webscrapping\n",
    "\n",
    "CONTENT MATTER: regex is a mind blowing way to filter string. Its it own programming language. It gives you super powers to parse strings... learn more here. \n",
    "\n",
    "HASH TAGS: parsestrings, learnregex\n",
    "\n",
    "LINK: affiliate\n",
    "\n",
    "MINI BLOG ARTICLE: "
   ]
  },
  {
   "cell_type": "markdown",
   "metadata": {},
   "source": [
    "HIGH VALUE TRACKER: \n",
    "\n",
    "SHARES:\n",
    "\n",
    "LIKES: \n",
    "\n",
    "AFFILIATE CLICKS:\n",
    "\n",
    "AFFILIATE SIGNUPS:\n",
    "\n",
    "MAILING LIST:\n",
    "\n",
    "REVENUE: \n"
   ]
  },
  {
   "cell_type": "markdown",
   "metadata": {},
   "source": [
    "Just found out, get 75% off datacamp premium. Access to all their content datacamp.pxf.io/Yg1Rxe Totally worth it. "
   ]
  },
  {
   "cell_type": "code",
   "execution_count": null,
   "metadata": {},
   "outputs": [],
   "source": []
  },
  {
   "cell_type": "code",
   "execution_count": null,
   "metadata": {},
   "outputs": [],
   "source": []
  },
  {
   "cell_type": "code",
   "execution_count": null,
   "metadata": {},
   "outputs": [],
   "source": []
  },
  {
   "cell_type": "code",
   "execution_count": null,
   "metadata": {},
   "outputs": [],
   "source": []
  }
 ],
 "metadata": {
  "kernelspec": {
   "display_name": "Python 3.8.2 64-bit",
   "language": "python",
   "name": "python38264bit735b8921aa184eefb4e65f4f9da620bb"
  },
  "language_info": {
   "codemirror_mode": {
    "name": "ipython",
    "version": 3
   },
   "file_extension": ".py",
   "mimetype": "text/x-python",
   "name": "python",
   "nbconvert_exporter": "python",
   "pygments_lexer": "ipython3",
   "version": "3.9.5"
  }
 },
 "nbformat": 4,
 "nbformat_minor": 4
}

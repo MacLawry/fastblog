{
 "cells": [
  {
   "cell_type": "markdown",
   "metadata": {},
   "source": [
    "#  \"Data Science- What is it?\"\n",
    "\n",
    "> \" My take on knowledge discovery from datasets\"\n",
    "\n",
    "- toc: true \n",
    "- comments: true\n",
    "- categories: [machine learning, jupyter notebooks, data science, project workflow, data mining, crisp dm]\n",
    "- image: images/8.png\n",
    "- permalink: /datascience"
   ]
  },
  {
   "cell_type": "markdown",
   "metadata": {},
   "source": [
    "# What is data science\n",
    "\n",
    "This may look like a simple question to answer but the more you go over the internet, the more you realise the many number of subfields in this topic. Luckily for us, the word 'science' in 'data science' generalizes the definition for us. Data science is thus the entire genre of skills and processes and art, used in finding meaning in data. The subfields in data science are due to the distintions, ifluences and applications in methods used to arrive at the solution. Major distinctions are, statistical inference, machinelearning, deeplearning. These too have their own subcategories, depicting specific methods used. \n",
    "\n",
    "Machine learning seems to be the operative term when talking about data science, and rightly so. Most advancements in data science that have given it its new hype, stem from machine learning. Machine learning has been able to solve some peculiar set of problems that were previously out of reach with traditional methods. Most famous fields are,computer vision, gameplay, natural language and autonomous systems. It hasnt stopped there, machine learning\\`s ripple effects and cross advantages are disrupting whole industries. New companies are in a short period of time able to take over long standing industries. Ignoring the hype is beginning to look like a fools errand, with every industry having a machine learning powered product.  \n",
    "\n",
    "Machine learning uses using data to learn. Instead of hardcoding rules, the machine learning algorithms make their inference from previous observations and feedack, just like humans learn to play a game.\n"
   ]
  },
  {
   "cell_type": "markdown",
   "metadata": {},
   "source": [
    "# Ideological purpose behind data science\n",
    "\n",
    "To the ideologist, the purpose behind data science it to formally account for the process of knowledge discovery from data. This becomes a formal process of creating hypotheses, the language, grammar, semantics and constraints for that field. This goes further into automated decision making and reproducability. Thus, specifying as much of the process as closely and accurately as possible. Detailing the steps towards recreacting the scenarios for specialised systems.\n",
    "\n",
    "Before a model is chosen, there is a formal data analysis phase. Forecasting, descriptive, predictive and prescriptive analysis, to vouche that the data fits into the formal constraints for a chosen model to work. \n",
    "\n",
    "To the ideologist, all he wants it to detect patterns, create new patterns or foretell them with as much accuracy and understanding as possible. So he divices ways to think about his problems. At first, the methods are simple averages, minimums, maximums, modes etc. But, this dont suffice, so he goes further, and creates specialised methods like trees, random forrest, KNNs etc. He creates rules for when to use them and when not to. He creates a whole language for explaining, his problem, approaches, reasoning and the solution design. Each kneatley organized for the next iteration and improvement. \n",
    "\n",
    "He further postulates that since, he is learning from data and not hardcoding rules, neural networks would work best. \n",
    "\n",
    "Data science thus becomes a discipline to advance and formalise the language, techniques and tasks of knowledge discovery. "
   ]
  },
  {
   "cell_type": "markdown",
   "metadata": {},
   "source": [
    "# Finance, Politics, Marketing, Ethics, Society and Ethics\n",
    "\n",
    "Machine learning, and the explosion of big data has been coming since the later 1870s with the invention of the first telephone. We can follow that line of communication down to the radio, the tv, the computer, the smart phone, and now the smart devices like siri and amazon echo. Just like space travels owes its progress to the steam engine. \n",
    "\n",
    "This line brought along its parallels, influences and ripple effects. Most observable in how it influenced, society, computing, information, business and profits. Among the most notable are the connected information, the networking of individuals, the creation of new information by computers, and the recording of information into digital formats. In each of these parallels, there promises to be business, profit and power to be had from studying and better undertanding, and advancing it. \n",
    "\n",
    "Now, we can tell when an individual watches an ad, makes a purchase, recommends its, is home for item delivery. We can even tell political views, how to ifluence them and tell excatly when someones political opinion has changed. So the job of these social sciences becomes to improve and understand the effect of this new reality of living with data, how it can be used for good and also for bad. \n",
    "\n",
    "Data science is hence used to shape social policies that govern how much data can be collected, who get to collects and monetize. Most importantly, its informing the individual on his rights, and posibilities of data breaches from the devices they use. \n",
    "\n",
    "Data privacy and data ownership. "
   ]
  },
  {
   "cell_type": "markdown",
   "metadata": {},
   "source": [
    "\n",
    "# Machine learning and data science as a neccessity \n",
    "\n",
    "With the size, complexity and variability of new data, we need new methods to process it and analyse it, otherwise, it will suffocate us under its weight. Every individual today with a smartphone has more computing power that the apollo mission. This new demands have heraled a shift in computer achitectures and a demand for new skills ripe for this new computer age. \n",
    "\n",
    "Think about it, every new company has its new way of doing business be it, tracking orders, paying for parking tickets, delivering content, taking pictures, handling events, the list goes on.\n",
    "Machine learning, data science and artificial intelligence is the natural step of a long of advancements in engineering.\n"
   ]
  },
  {
   "cell_type": "markdown",
   "metadata": {},
   "source": [
    "\n",
    "\n",
    "# Deeplearning and AI\n",
    "\n",
    "Deelearning is what buzzing..\n",
    "\n",
    "Deeplearning is at the edge of AI. AIs goal is to create human intelligence in machines. \n",
    "the end goal is to create general ai. this type of ai can learn to solve alot of problems. like reading, writing. currently, ai systems are specialised. \n",
    "\n",
    "\n",
    "summary, parts, i t"
   ]
  },
  {
   "cell_type": "markdown",
   "metadata": {},
   "source": [
    "# Common data science algorithms for common patterns in data \n",
    "\n",
    "From the ideologies above, there emerges common algorithms that work very well on a certain data sets or certain problems. \n",
    "supervised, unsupervised and reinforcement learning\n",
    "\n",
    "linear reg,\n",
    "\n",
    "categorical,\n",
    "\n",
    "knn\n",
    "\n",
    "decision trees\n",
    "\n",
    "random forest\n",
    "\n",
    "svd\n",
    "\n",
    "logistic regression\n",
    "\n",
    "supervised\n",
    "\n",
    "unsupervised"
   ]
  },
  {
   "cell_type": "markdown",
   "metadata": {},
   "source": [
    "# Applications of data science in the wild \n",
    "\n",
    "one of the best examples of the wide application of machine learning is in kaggle competitions.\n",
    "\n",
    "agriculuture\n",
    "weather\n",
    "computer vision "
   ]
  },
  {
   "cell_type": "markdown",
   "metadata": {},
   "source": [
    "# Data science for the individual or small company\n",
    "you may not have enough data for the larger task, but dont let that hold you back.\n",
    "some models are pretrained and fitted for specialised tasks like detecting faces, cats, dogs etc you can play around with these \n"
   ]
  },
  {
   "cell_type": "markdown",
   "metadata": {},
   "source": [
    "# Self serve data science as an API\n",
    "data science is still a software endgoal. that means that the processing is served on an api and served to the end use. \n",
    "below is  model that can "
   ]
  },
  {
   "cell_type": "markdown",
   "metadata": {},
   "source": [
    "# The data science process workflow\n",
    "\n",
    "No data science intro would be complete without the CRISP-DM model...\n",
    "\n",
    "Below is my variant of the CRISP-DM model.\n",
    "\n",
    "## 1. Business opportunity and hypothesis formulation \n",
    "\n",
    "The first part is envision the business oportunity, then understanding the problem domain, questioning assumptions and reading widely and scantily for possible solutions. You would then formulate hypothesis that best seek to enlighten opinions. You would also check the quality and quantity of data and how it is served. Record any inconsistencies in data, and assupmtions that may be important further down the line. Loosely couple your moving pieces and create an abstraction layer. \n",
    "\n",
    "  - Business opportunity\n",
    "  - Find data sources. Availability and Suitabiity\n",
    "  - Explore and visualize data. Predictions and Insights\n",
    "  - Ascertain consistency or account for inconsistencies\n",
    "  - Decouple the pieces of the solution and design your abstraction layer\n",
    "\n",
    "\n",
    "\n",
    "## 2. Proposing a model solution. Its implementation and serving  \n",
    "\n",
    "With credible exploratory data analysis and domain research, you have an idea of possible models that should have decent results. Once you have some base models, you can tweek them with more data or engineer features. Engineering features is going to be the most rewarding addition to your model accuracy, spend some time on it.\n",
    "\n",
    "  - Clean data \n",
    "  - Feature engineer data\n",
    "  - Add data\n",
    "  - Train models \n",
    "  - Model ensemble\n",
    "  - Audit best model\n",
    "  - Model explainability \n",
    "  \n",
    "\n",
    "\n",
    "## 3. Auditing model for solution implementation \n",
    "\n",
    "To ascertain your model resilience on production data, you must constantly audit data sources, inputs, pipelines and data warehouses and keep tabs on any changes that affect your model accuracy. Further to checking data being fed into the model, also use best software practices for data mining. This include:\n",
    "\n",
    "  - Unit testing modules and functions and all abstration layers \n",
    "  - Using model pipelines \n",
    "  - Logging critical parts of your softare layer\n",
    "  - Proper documentation and defensible design and model choices\n",
    "  - Accuracy scoring and model decay checking\n",
    "  - Retraining, updating and retiring models\n",
    "  \n",
    "  \n",
    "Steps 2 and 3 are iterative. Thats is why its is important to create an asbraction layer and loose coupling early on. Your whole project shouldnt crush on every iteration. You can work on one part without thinking much about the other parts. "
   ]
  },
  {
   "cell_type": "code",
   "execution_count": null,
   "metadata": {},
   "outputs": [],
   "source": [
    "# Some Hints "
   ]
  },
  {
   "cell_type": "code",
   "execution_count": null,
   "metadata": {},
   "outputs": [],
   "source": []
  },
  {
   "cell_type": "markdown",
   "metadata": {},
   "source": [
    "# The data science domain language.\n",
    "\n",
    "for us to understand if clearly, we must understand the domain language of data science. With each subdomain, lies another language domain. The sooner we understand the terms, meanings, processes inside the terms, assumptions, influences, it becomes less foreign, the sooner we can speak it. And when we speak it, we become use it and if we can use it, we cna grow it. \n",
    "\n",
    "This is my take on responsibilities, demands, processes and professionalism for having a robust problem solving arsenal when dealing with data. \n",
    "\n",
    "I see 2 versions of data mining. One based on a process of data processing that is well researched and documented. This involves answering questions have been solved- and their variations, its a matter of knowing the models that apply to your situation. Think recommendation engines, or a spam comment filters, the process is known. The nuances are getting it work for you, and finetunning for deployment.  \n",
    "\n",
    "In the other, has general business questions like, 'How can a logistics company increase revenue by taking on more diverse kinds of deliveries? This problem has many moving parts. \n",
    "It needs statistical research, domain expertise, and creativity. To get good at this kinds of problems, you need data journalism, information design, data simulation and a good handle of programming and algorithm design. \n",
    "\n",
    "\n",
    "The obvious questions are, 'How can it go wrong?' and 'How can be the one to see it before it happens?'. Consicely:\n",
    "\n",
    "- Do I have data or do have to simulate it?\n",
    "- Is the data represented correctly?\n",
    "- Is data integrity maintained in all stages of during reading or writing?\n",
    "- What are the right, ambitious and wrong questions to ask? \n",
    "- Is our automation and coding skill up to par? \n",
    "- Do I have a strong defensible foundation for choice of tools, algorithms and design choices?\n",
    "- How will I communicate and deliver findings?\n",
    "- What should the ouput look?\n",
    "- What I'm I looking for, or atleast what Im I looking at?\n",
    "- How do I decouple the solution into simple abstractions that I can think about?\n",
    "\n",
    "\n",
    "As the name sugguests data mining is knowledge discovery from datasets. \n",
    "\n",
    "Its searching through data to come up with valuable information that can be used as new knowledge for existing problems. In searching, data representation maybe you most important goal. Some creativity does come to mind, but there are generally acceptable ways. \n",
    "\n",
    "Problems are reduced to quantifiable sums as hypothesis statements.The data mining process is structured and relies on good statistical reasoning and explainability; for this reason, the solution needs to be generalizable and reproducable. \n",
    "\n",
    "The output of data mining models is simple, robust and translatable/interpratable for it to be plugged into the value chain, eg... the similarity score of netflix movies is an easily interpratable number- 0-100. Easily understandable at a glance though the underlying model maybe complex. \n",
    "\n",
    "The data mining strategy uses a data driven approach on a vast number of business problems and opportunities,\n",
    "with Data Scietists working on huge number of seemingly unrelated problems; ranging from \n",
    "social impact, medical imaging, law, politics and hobby projects. \n",
    "\n",
    "This hints that there is strong underlying workflow for success in data mining. \n",
    "\n",
    "Data Science as a role, makes data and skills available for data driven approaches to strategic issues. \n",
    "\n",
    "Data strategies vary in complexity; from a simple google form questionnaire asking for feedback to specialised consultation services. \n"
   ]
  },
  {
   "cell_type": "markdown",
   "metadata": {},
   "source": [
    "the algos, language, constraints."
   ]
  },
  {
   "cell_type": "markdown",
   "metadata": {},
   "source": [
    " product.  utility, motivation and potential "
   ]
  },
  {
   "cell_type": "markdown",
   "metadata": {},
   "source": [
    "## The data\n",
    "\n",
    "\n",
    "Not all data is the same. Some data is timely, has more volume, better quality, verifiable, better formated and domain relevant to your situation. \n",
    "\n",
    "Data needs to be organized from many formats, departments and time scales and made available on the data platform/lake. This data availability creates relevance to data, since it can now be use as a whole and efficiently integrated in other systems. Data warehouses can take various shapes and sizes, depending on the nature, format and usecase. Some can have data of the same format. While others can mix various data formats and sources. \n",
    "\n",
    "Data might also be missing. You might have to buy it, engineer it or account for its absence in your projects.\n",
    "\n",
    "There needs to be good data engineering practices for the most basic and widely applicable data needs and tools. i.e data backup, databases querry, big data tools, data pipelines and parallel computing\n"
   ]
  },
  {
   "cell_type": "markdown",
   "metadata": {},
   "source": [
    "> Tip:  [Learn SQL from DataCamp](https://www.datacamp.com?tap_a=5644-dce66f&tap_s=1363842-0cfaf5&utm_medium=affiliate&utm_source=lawrencenderitu&tm_subid1=indexpage). The most in demand database infrastructure. "
   ]
  },
  {
   "cell_type": "markdown",
   "metadata": {},
   "source": [
    "## The data scientist \n",
    "\n",
    "![](../images/d_scientist.jpg)\n",
    "\n",
    "A data scientist is a manager, a designer and the stake holder of the processes above. \n",
    "\n",
    "The data scientist enumerates project value, potential constraints, moving parts and reservations about projects. \n",
    "\n",
    "Data scientists monitor modifications and updates to business opportunities, implementation constraints, management constraints, regulatory constraints, data constraints, skill contraints and tooling constraints.\n",
    "\n",
    "They keep a score card of past analytics projects, approaches applied and any changes in views to current data driven approaches in the business. \n"
   ]
  },
  {
   "cell_type": "markdown",
   "metadata": {},
   "source": [
    "I like to think of data scientist as a great information designer, who is able to have great perspecives on the data he is working with. He is able to represent it in a way that the most important information is simple to discern and utilise."
   ]
  }
 ],
 "metadata": {
  "kernelspec": {
   "display_name": "Python 3.8.2 64-bit",
   "language": "python",
   "name": "python38264bit735b8921aa184eefb4e65f4f9da620bb"
  },
  "language_info": {
   "codemirror_mode": {
    "name": "ipython",
    "version": 3
   },
   "file_extension": ".py",
   "mimetype": "text/x-python",
   "name": "python",
   "nbconvert_exporter": "python",
   "pygments_lexer": "ipython3",
   "version": "3.9.5"
  }
 },
 "nbformat": 4,
 "nbformat_minor": 4
}

{
 "cells": [
  {
   "cell_type": "markdown",
   "metadata": {},
   "source": [
    "data is dirty, try look for a way to find patterns in the dirty data.\n",
    "this will help you create maps in to specific format.\n",
    "\n",
    "remember, it is incremental maps.\n",
    "\n",
    "remember rules of tidy data. \n",
    "\n",
    "all you are looking for is a features + label array. and mappers to easily create that. "
   ]
  }
 ],
 "metadata": {
  "kernelspec": {
   "display_name": "Python 3.8.2 64-bit",
   "language": "python",
   "name": "python38264bit735b8921aa184eefb4e65f4f9da620bb"
  },
  "language_info": {
   "codemirror_mode": {
    "name": "ipython",
    "version": 3
   },
   "file_extension": ".py",
   "mimetype": "text/x-python",
   "name": "python",
   "nbconvert_exporter": "python",
   "pygments_lexer": "ipython3",
   "version": "3.8.5"
  }
 },
 "nbformat": 4,
 "nbformat_minor": 4
}

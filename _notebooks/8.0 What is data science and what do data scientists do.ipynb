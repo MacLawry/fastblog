{
 "cells": [
  {
   "cell_type": "markdown",
   "metadata": {},
   "source": [
    "#  \" What is Data Science\"\n",
    "\n",
    "> \" What is the role of Data Science and who are Data Scientists\"\n",
    "\n",
    "- toc: true \n",
    "- comments: true\n",
    "- categories: [machine learning, jupyter notebooks, sklearn, data science, searborn]\n",
    "- image: images/8.png\n",
    "- permalink: /mlworkflow"
   ]
  },
  {
   "cell_type": "markdown",
   "metadata": {},
   "source": [
    "# What is Data Science \n",
    "\n",
    "Data science is project based solving of strategically important problems.\n",
    "These problems are reduced to quantifiable sums to avoid generalities in hypothesis statement formulation. \n",
    "\n",
    "A hospital might ask, how can we reduce the number of re-admitions, a sales manager mights ask, how can I make more sales from my current team and leads. From here a data scientist will ask leading questions adn come up with a hypothesis after understanding your business domain. eg. He might hypothesise, adding 3 more nurses per doctor reduces readmissions by 20%.  \n",
    "\n",
    "The data science strategy uses a data driven approach on a vast number of business problems and opportunities. It is the data scientists role to come up with data driven strategies with for the biggest opportunities within the organization. \n",
    "\n",
    "Data Science therefore is the role that makes data available and the data skills to address strategic business issues. These strategies vary; from a simple google form questionnaire asking for feedback to specialised consultation services. \n",
    "\n",
    "Data science solutions have inputs, and outcomes. The data scientists value is augmenting this relationship for desirable outcomes.  \n"
   ]
  },
  {
   "cell_type": "markdown",
   "metadata": {},
   "source": [
    "## Data science project workflow\n",
    "\n",
    "The list below outlines and agreeable data science workflow adaopted from the IBM Data Science Professional Competency Model.\n",
    "\n",
    "\n",
    "1. Business opportunity and hypothesis formulation \n",
    "\n",
    "The first part is understanding the problem domain, questioning assumptions and mostly reading widely and scantily for possible solutions. You would then formulate hypothesis that best seek to enlighten opinions. You would also check the quality and quantity of data and how it is served. Record any inconsistencies in data, and assupmtions that may be important further down the line. \n",
    "\n",
    "  - Business opportunity\n",
    "  - Find data sources. Availability and Suitabiity\n",
    "  - Explore and visualize data. Predictions and Insights\n",
    "  - Ascertain consistency or account for inconsistencies\n",
    "\n",
    "\n",
    "2. Proposing a model solution. Its delivery and serving  \n",
    "\n",
    "With credible data analysis reports, you can have a idea of possible models that should have decent results. Once you have some base models, you can tweek them with more data or engineer features. \n",
    "\n",
    "  - Clean data\n",
    "  - Feature engineer data\n",
    "  - Additional data\n",
    "  - Train models \n",
    "  - Model ensemble\n",
    "  - Deploy best model\n",
    "  - Model explainability \n",
    "  \n",
    "\n",
    "3. Auditing model and solution implementation \n",
    "\n",
    "To ascertain your model works well on production data, you must constantly audit data sources, inputs, pipelines and data warehouses and keep tabs on any changes that affect your model accuracy. \n",
    "\n",
    "  - Monitor and manage\n",
    "  - Measure success \n",
    "  - Model pipelines\n",
    "  - Big data \n",
    "  - Retrain or retire model"
   ]
  },
  {
   "cell_type": "markdown",
   "metadata": {},
   "source": [
    "## Data\n",
    "\n",
    "Not all data is equal. Some data is timely, better quality, verifiable, better formated and domain relevant to your situation. \n",
    " \n",
    "Data needs to be organized from many formats, departments and time scales and made available on the data platform/lake. This organization creates relevance to data, since it can now be seen as a whole and efficiently integrated in other systems. \n",
    "\n",
    "Data might also be missing. You might have to buy it, engineer it or account for its absence in you projects.\n",
    " "
   ]
  },
  {
   "cell_type": "markdown",
   "metadata": {},
   "source": [
    "## Analytics tools and methodologies\n",
    "\n",
    "The choice of technology and design choice is a whole ecosystem that needs frquent, carefull monitoring. It will ultimately house your models. The accuracy, completion rates, cost and joy of working on a project will be heavily influenced by your analytics tools and methods. \n",
    "\n",
    "  - choice of analytics tools and competing alternatives. Mostly influenced by industry trends, costs, culture and ease of integration into larger ecosystem.\n",
    "  - benchmarks for quality, acurracy and speed. This will mostly be determined on a projects basis as a deliverable.\n",
    "  - training on tools, configuration, maitanance and access. These standards are set by the data science manager adviced by business continuity models. \n",
    "  - utilisation of tools per project and model. Measures the efficacy and utilisation of available tools. \n",
    "  - IT infrasctructure. Your data tools sit on top or are fed into the larger IT infrascture. \n",
    "  - models shipped and design choices used. Score of success that advices future tech, hires and design choices.\n",
    "  - maintainance audits. Frequent of servicing models and refactoring of code. \n"
   ]
  },
  {
   "cell_type": "markdown",
   "metadata": {},
   "source": [
    "## Data scientist \n",
    "\n",
    "A data scientist is a manager, a designer and the stake holder of the processes above. \n",
    "\n",
    "The data scientist enumerates project value, potential constraints, moving parts and reservations about projects. \n",
    "\n",
    "Data scientists monitor modifications and updates to business opportunities, implementation constraints, management constraints, regulatory constraints, data constraints, skill contraints and tooling constraints.\n",
    "\n",
    "They keep a score card of past analytics projects, approaches applied and any changes in views to current data driven approaches in the business. \n"
   ]
  },
  {
   "cell_type": "code",
   "execution_count": null,
   "metadata": {},
   "outputs": [],
   "source": []
  }
 ],
 "metadata": {
  "kernelspec": {
   "display_name": "Python 3.8.2 64-bit",
   "language": "python",
   "name": "python38264bit735b8921aa184eefb4e65f4f9da620bb"
  },
  "language_info": {
   "codemirror_mode": {
    "name": "ipython",
    "version": 3
   },
   "file_extension": ".py",
   "mimetype": "text/x-python",
   "name": "python",
   "nbconvert_exporter": "python",
   "pygments_lexer": "ipython3",
   "version": "3.8.5"
  }
 },
 "nbformat": 4,
 "nbformat_minor": 4
}

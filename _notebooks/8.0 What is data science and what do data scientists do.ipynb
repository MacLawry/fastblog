{
 "cells": [
  {
   "cell_type": "markdown",
   "metadata": {},
   "source": [
    "#  \" What is Data Science\"\n",
    "\n",
    "> \" What is the role of Data Science and who are Data Scientists\"\n",
    "\n",
    "- toc: true \n",
    "- comments: true\n",
    "- categories: [machine learning, jupyter notebooks, sklearn, data science, searborn]\n",
    "- image: images/logo.png\n",
    "- permalink: /mlworkflow"
   ]
  },
  {
   "cell_type": "markdown",
   "metadata": {},
   "source": [
    "# What is Data Science \n",
    "\n",
    "Data science is project based solving of strategically important problems. A hospital might ask, how can we reduce the number of re-admitions, a sales manager may ask, how can I make more sales from my current team and leads. \n",
    "These problems are reduced to quantifiable sums for hypothesis statements to be formulated.\n",
    "\n",
    "The data science business strategy aims to use a data driven approach on a vast number of business problems and opportunities. Its is the role of the data scientist to come up with valuable data driven strategies for the biggest opportunities within the organization. \n",
    "\n",
    "Data Science therefore is the role that makes data available and the data skills to address strategic business issues.\n",
    "\n",
    "These strategies may be as simple as a google form questionnaire to specialised consultation services. All all data science solutions have inputs, and outcomes. The datascientists value is finding relationships with the most desired outcome. \n"
   ]
  },
  {
   "cell_type": "markdown",
   "metadata": {},
   "source": [
    "## Data science project workflow\n",
    "\n",
    "\n",
    "\n",
    "1. Business opportunity and hypothesis formulation \n",
    "\n",
    "  - Business opportunity\n",
    "  - Find data sources. Availability and Suitabiity\n",
    "  - Explore and visualize data. Predictions and Insights\n",
    "  - Ascertain consistency or account for inconsistencies\n",
    "\n",
    "\n",
    "2. Proposing a model solution. Its delivery and serving  \n",
    "  - Clean data\n",
    "  - Feature engineer data\n",
    "  - Additional data\n",
    "  - Train models \n",
    "  - Model ensemble\n",
    "  - Deploy best model\n",
    "  - Model explainability \n",
    "  \n",
    "\n",
    "3. Auditing model and solution implementation \n",
    "  - Monitor and manage\n",
    "  - Measure success \n",
    "  - Model pipelines\n",
    "  - Big data \n",
    "  - Retrain or retire model"
   ]
  },
  {
   "cell_type": "markdown",
   "metadata": {},
   "source": [
    "## Data\n",
    "\n",
    "Data need to be available. Without data, none of this may be possible. collect, buy\n",
    "Not all data is equal, \n",
    "Data needs to be organized \n",
    "Data needs to be relevant \n",
    "Data needs to be integrated.\n",
    "Data needs to accessible and protected\n",
    "What data are we missing\n",
    "Data Scientist is supposed to be conversation \n",
    "\n"
   ]
  },
  {
   "cell_type": "markdown",
   "metadata": {},
   "source": [
    "## Analytics tools and methodologies\n",
    "\n",
    "this is a whole ecosystem that needs carefull monitoring and firewals. \n",
    "\n",
    "- choice of analytics tools\n",
    "- benchmarks for quality, acurracy and speed\n",
    "- competing alternatives, costs, improvements and tradeoffs\n",
    "- training on tools, confuguration, maitanance and access\n",
    "- utilisation of tools per project and model\n",
    "- IT infrasctructure and the tech ecosystem \n",
    "- models shipped and design choices used\n",
    "- maintainance logs \n",
    "\n"
   ]
  },
  {
   "cell_type": "markdown",
   "metadata": {},
   "source": [
    "## Data Scientist \n",
    "\n",
    "A data scientist is a manager, a designer and the stake holder of the processes above. \n",
    "\n",
    "The data scientist enumerates project value, potential constraints, moving parts and reservations about projects. \n",
    "\n",
    "Data scientists monitor modifications and updates to business opportunities, implementation constraints, management constraints, regulatory constraints, data constraints, skill contraints and tooling constraints.\n",
    "\n",
    "They keep a score card of past analytics projects, approaches applied and any changes in views to current data driven approaches in the business. \n"
   ]
  },
  {
   "cell_type": "code",
   "execution_count": null,
   "metadata": {},
   "outputs": [],
   "source": []
  }
 ],
 "metadata": {
  "kernelspec": {
   "display_name": "Python 3.8.2 64-bit",
   "language": "python",
   "name": "python38264bit735b8921aa184eefb4e65f4f9da620bb"
  },
  "language_info": {
   "codemirror_mode": {
    "name": "ipython",
    "version": 3
   },
   "file_extension": ".py",
   "mimetype": "text/x-python",
   "name": "python",
   "nbconvert_exporter": "python",
   "pygments_lexer": "ipython3",
   "version": "3.8.5"
  }
 },
 "nbformat": 4,
 "nbformat_minor": 4
}

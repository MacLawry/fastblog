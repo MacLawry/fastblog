{
 "cells": [
  {
   "cell_type": "markdown",
   "metadata": {},
   "source": [
    "What is the best model to fit the data to?\n",
    "\n",
    "you probably arrived with a good idea from problem statement analysis\n",
    "but here, we look at computation speed, simplicity etc. and other detailed considerations\n",
    "fit the data.... \n",
    "\n",
    "test on test data , repeat on new models,\n",
    "model ensembles \n",
    "boosting. \n",
    "\n",
    "always keeping a base model running."
   ]
  }
 ],
 "metadata": {
  "kernelspec": {
   "display_name": "Python 3.8.2 64-bit",
   "language": "python",
   "name": "python38264bit735b8921aa184eefb4e65f4f9da620bb"
  },
  "language_info": {
   "codemirror_mode": {
    "name": "ipython",
    "version": 3
   },
   "file_extension": ".py",
   "mimetype": "text/x-python",
   "name": "python",
   "nbconvert_exporter": "python",
   "pygments_lexer": "ipython3",
   "version": "3.8.5"
  }
 },
 "nbformat": 4,
 "nbformat_minor": 4
}

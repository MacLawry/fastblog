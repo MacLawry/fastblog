{
 "cells": [
  {
   "cell_type": "markdown",
   "metadata": {},
   "source": [
    "# Problem Framing \n"
   ]
  },
  {
   "cell_type": "markdown",
   "metadata": {},
   "source": [
    "If I lived in a perfect universe, \n",
    "\n",
    "- How else would the problem be framed?\n",
    "- How would the data look? \n",
    "- Which model would fit perfectly? \n",
    "- How then, how can I work backwards, solving only what I need, using only what I need? \n",
    "- Which parts of the perfect world are violated by the problem statement, the data, available models ...? \n",
    "- What can I solve now, simply and incrementally. \n",
    "\n",
    "At problem framing, the desired goal should be clear though the methods may not. Problem framing aims to expound the problem. This is when you have a good guesses at what might work or not. This stage allows you to line up a few experiments that you feel might work and would be a good investment of your time. \n",
    "\n",
    "Working backwards makes sure your immediate needs dont get sidelined as you get awed away at some distraction that you might never use on the problem at hand. \n",
    "You are not some squeaky clean scientist with the time and abandunt intellect to discover new formulas. You are a greasy mechanic with rusty parts that need to come together for your engine to start roaring. \n",
    "\n",
    "Expounded the problem;\n",
    "\n",
    "1. Problem domain and general techniques needed to solve the problem. \n",
    "2. Sub-problems within the problem. \n",
    "3. Similar problems and the acceptable ways of solving them. Read scantily and widely- ask around. \n",
    "4. Working back wards, in time or process from the desired goal, looking for the simplest solution to fit/predict as opposed to accuracy.\n",
    "5. Choosing a base model and best accuracy methods to benchmark with. Which model in the least, gets you a pulse.  \n",
    "6. What components are running under the hood and their interactions that may need fine tuning, without breaking the rest of the model.\n",
    "\n"
   ]
  },
  {
   "cell_type": "code",
   "execution_count": null,
   "metadata": {},
   "outputs": [],
   "source": []
  }
 ],
 "metadata": {
  "kernelspec": {
   "display_name": "Python 3.8.2 64-bit",
   "language": "python",
   "name": "python38264bit735b8921aa184eefb4e65f4f9da620bb"
  },
  "language_info": {
   "codemirror_mode": {
    "name": "ipython",
    "version": 3
   },
   "file_extension": ".py",
   "mimetype": "text/x-python",
   "name": "python",
   "nbconvert_exporter": "python",
   "pygments_lexer": "ipython3",
   "version": "3.8.5"
  }
 },
 "nbformat": 4,
 "nbformat_minor": 4
}

{
 "cells": [
  {
   "cell_type": "markdown",
   "metadata": {},
   "source": [
    "This will determine,\n",
    "\n",
    "order the : techniques needed,\n",
    "\n",
    "order theproblems within the problem. \n",
    "\n",
    "Work back wards, in time or process\n",
    "\n",
    "Components running under the hood and interactions\n",
    "\n",
    "read widely- ask around. \n",
    "look for the easiest solution to fit/predict as opposed to accuracy.\n",
    "\n",
    "a dumb, funny solution is better that nothing. \n",
    "never be embarassed. "
   ]
  }
 ],
 "metadata": {
  "kernelspec": {
   "display_name": "Python 3.8.2 64-bit",
   "language": "python",
   "name": "python38264bit735b8921aa184eefb4e65f4f9da620bb"
  },
  "language_info": {
   "codemirror_mode": {
    "name": "ipython",
    "version": 3
   },
   "file_extension": ".py",
   "mimetype": "text/x-python",
   "name": "python",
   "nbconvert_exporter": "python",
   "pygments_lexer": "ipython3",
   "version": "3.8.5"
  }
 },
 "nbformat": 4,
 "nbformat_minor": 4
}

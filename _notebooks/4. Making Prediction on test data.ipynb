{
 "cells": [
  {
   "cell_type": "markdown",
   "metadata": {},
   "source": [
    "Making predictions on test data... \n",
    "\n",
    "unseen data from the real world.\n",
    "\n",
    "remember the data cleaning mappings and features eng steps... you will need them to transform your raw data all over again. \n",
    "\n",
    "its is important you do do it this way... to make sure your model is deploy ready.\n",
    "\n",
    "dont confuse test and validation test...validation runs from ... xyz...\n",
    "a test is a test is a test is a test... it runs from a to z not ...xyz only."
   ]
  }
 ],
 "metadata": {
  "kernelspec": {
   "display_name": "Python 3.8.2 64-bit",
   "language": "python",
   "name": "python38264bit735b8921aa184eefb4e65f4f9da620bb"
  },
  "language_info": {
   "codemirror_mode": {
    "name": "ipython",
    "version": 3
   },
   "file_extension": ".py",
   "mimetype": "text/x-python",
   "name": "python",
   "nbconvert_exporter": "python",
   "pygments_lexer": "ipython3",
   "version": "3.8.5"
  }
 },
 "nbformat": 4,
 "nbformat_minor": 4
}

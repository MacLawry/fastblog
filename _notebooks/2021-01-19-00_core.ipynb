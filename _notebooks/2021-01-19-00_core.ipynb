{
 "cells": [
  {
   "cell_type": "markdown",
   "metadata": {},
   "source": [
    "# My Simple DS Templates\n",
    "\n",
    "> Tip: We will start with the easy games i.e datasets already shipped with sklearn and fewer steps to creating models. Later, we gradually introduce more granular templates. The plan is; revisit the same familiar templates, add more steps and weigh the tradeoffs.\n",
    "Hopefully, unneccesary complexity will ruin our model accuracy and we will revert to simpler solution. This plan, if it works out, will help us choose paths to take and maybe get really good at it.  \n",
    " "
   ]
  },
  {
   "cell_type": "markdown",
   "metadata": {},
   "source": [
    "## Speaking of paths. \n",
    "\n",
    "Lets look at the problems we try to solve like playing an adventure game. I should be the last person to talk about games. I have only ever played 2 games in my life( 3 to be precise); snake senzia and project igi 1&2 (best game ever). We can all agree that the best/fun way to play a game, is to learn basic controls, get started, die alot, keep dying untill you have exhausted all possible ways the game can kill you. In every game, there are some basic ways of getting shot, ie, you spend to much time on one scene, guards on patrol get you, or the sniper gets you. With time, you learn your way around try to finish a mission with a better score than last time i.e without getting hit or without tripping any alarms and you actually try out the harder but shorter ways to finish the mission or look for more challenging games. This is the way. \n",
    "\n",
    "Others know this to be true, it has been said many times before, 'Just start'. That feeling of 'I need to read this book and that book', 'I need to understand all the jargon from a research paper' are the obvious comebacks. Ultimately, you do need to read alot of books and understand research papers. But thats level 5. Lets start at level 1, its still fun. This is the way.\n",
    "\n",
    "Turns out, watching someone else do the hardwork, is not a transferrable skill. Who would have thought?  "
   ]
  },
  {
   "cell_type": "markdown",
   "metadata": {},
   "source": [
    "## Lets start with the basics. \n",
    "\n",
    "> Note: Datascience is broad. Its similar to saying 'Medicine' or 'Doctor'. For general conversations, that will pass but you might have to be more direct in some scenarios. I tend to argue that Machine Learning and Deeplearning is the true essense of Data Science. For this reason, I will concentate on the these two. \n"
   ]
  },
  {
   "cell_type": "markdown",
   "metadata": {},
   "source": [
    "### "
   ]
  }
 ],
 "metadata": {
  "kernelspec": {
   "display_name": "Python 3",
   "language": "python",
   "name": "python3"
  },
  "language_info": {
   "codemirror_mode": {
    "name": "ipython",
    "version": 3
   },
   "file_extension": ".py",
   "mimetype": "text/x-python",
   "name": "python",
   "nbconvert_exporter": "python",
   "pygments_lexer": "ipython3",
   "version": "3.7.6"
  }
 },
 "nbformat": 4,
 "nbformat_minor": 2
}

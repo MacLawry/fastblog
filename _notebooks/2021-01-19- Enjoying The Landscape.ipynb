{
 "cells": [
  {
   "cell_type": "markdown",
   "metadata": {},
   "source": [
    "# Developing Analytic Intuition\n",
    "Asking myself, 'How do I encode complex realities from simple ideas'?\n",
    "\n",
    "Past what threshold of simple ideas, crossed together, can we say a complex whole has been achieved? A-> B --> C |---> A. Is this most efficient forward transfer of information. \n",
    "\n",
    "A complex whole has perpetuity in producing the same simple sums that define it, at less efficiency, until its eventual decay unless an 'observer' agent is in control to delay the inevitable...Chaotic when unforeseen, beatiful when tamed and hard to understand when foreign. \n",
    "\n",
    "Is there a way to disentangle it, is there order in molding it. \n",
    "I guess we will learn more when we cover reinforcement learning. "
   ]
  },
  {
   "cell_type": "markdown",
   "metadata": {},
   "source": [
    "# Creating a narrative\n",
    "\n",
    "Having a narrative is important. Narratives draw you in, taking you on journey whose end you dont know yet. Time flies, as you are transported into 'focus' and everything else is a nuisance you wish off. You know have a strong narrative when it shows in your thinking and actions. How then, do you make a good narative that effortlessly transports you, at will, to some other place? \n",
    "\n",
    "Keep a canvas, so you pick up from where you left, so you appreciate your growth and so you keep a log of your recipes, good and bad, just like every great savant has unfinished projects. Get paid for your work. Nothing will make you work harder than getting paid to complete an assigment. Alternatively, measure your works productivity with an audience. Always make sure you are your biggest audience, take on a different form and look at your work... over and over. \n",
    " "
   ]
  },
  {
   "cell_type": "markdown",
   "metadata": {},
   "source": [
    "> Note to self: Start with the easy games, the view of the landscape and simple plot lines. Datasets shipped with sklearn with fewer steps to modeling and intentionally nuanced for illustration of concepts. Later, gradually introduce more granular templates.Create familiarity, add more steps and weigh the tradeoffs.\n",
    " "
   ]
  },
  {
   "cell_type": "markdown",
   "metadata": {},
   "source": [
    "## Speaking of narratives. \n",
    "\n",
    "Lets look at the problems we try to solve like an adventure game. We learn basic controls, get started, fail alot, keep failing untill we have considerable intuition of the gameplay. We detail and catalog steps to elegance. In no time we will have an arsenal to deploy at more challenging games. This is the way. \n",
    "\n",
    "'Just start', better an unfinished project than none at all. The feeling that, \"you need to read plenty of books or understand all the jargon from a research paper\", are obvious setbacks. Ultimately, you do need to read alot of books and understand research papers. But thats at a later level. Start at level 1, its still fun. This is the way. \n",
    " "
   ]
  },
  {
   "cell_type": "markdown",
   "metadata": {},
   "source": [
    "> Important: As turns out, watching others do the hardwork, is not a transferrable skill. Who knew?"
   ]
  },
  {
   "cell_type": "code",
   "execution_count": 105,
   "metadata": {},
   "outputs": [
    {
     "data": {
      "text/plain": [
       "array(['virginica', 'setosa', 'versicolor', 'setosa', 'setosa', 'setosa',\n",
       "       'virginica', 'virginica', 'virginica', 'versicolor', 'setosa',\n",
       "       'versicolor', 'virginica', 'versicolor', 'virginica', 'setosa',\n",
       "       'virginica', 'versicolor', 'versicolor', 'virginica', 'versicolor',\n",
       "       'versicolor', 'setosa', 'setosa', 'virginica', 'versicolor',\n",
       "       'setosa', 'setosa', 'versicolor', 'versicolor'], dtype='<U10')"
      ]
     },
     "execution_count": 105,
     "metadata": {},
     "output_type": "execute_result"
    }
   ],
   "source": [
    "\n",
    "from sklearn.preprocessing import LabelEncoder\n",
    "\n",
    "le = LabelEncoder().fit(iris.target_names)\n",
    "le.inverse_transform(ypred)\n"
   ]
  },
  {
   "cell_type": "markdown",
   "metadata": {},
   "source": [
    "There is alot we didnt cover, eg our chosen KNN model intuition, what were other alternative models, would our model generalize well, is it reproducable etc. That comes later. "
   ]
  },
  {
   "cell_type": "markdown",
   "metadata": {},
   "source": [
    "We now have a canvas to start with, not one we are proud of, but a canvas no matter. This is very weak canvas that barely paints the horizon, we  have over simplified our responsibilites, on purpose. Later, we will revisit each step, go off on tangents, grow the number of steps and try more demanding challenges. "
   ]
  },
  {
   "cell_type": "markdown",
   "metadata": {},
   "source": [
    "Biliography: https://www.kaggle.com/skalskip/iris-data-visualization-and-knn-classification"
   ]
  }
 ],
 "metadata": {
  "kernelspec": {
   "display_name": "Python 3",
   "language": "python",
   "name": "python3"
  },
  "language_info": {
   "codemirror_mode": {
    "name": "ipython",
    "version": 3
   },
   "file_extension": ".py",
   "mimetype": "text/x-python",
   "name": "python",
   "nbconvert_exporter": "python",
   "pygments_lexer": "ipython3",
   "version": "3.7.6"
  }
 },
 "nbformat": 4,
 "nbformat_minor": 2
}
